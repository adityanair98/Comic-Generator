{
  "cells": [
    {
      "cell_type": "code",
      "execution_count": 7,
      "metadata": {
        "colab": {
          "base_uri": "https://localhost:8080/"
        },
        "id": "BjMKVS6LPFkC",
        "outputId": "bd3bcb69-aa11-4e08-fc03-7df5ee88e0c4"
      },
      "outputs": [
        {
          "name": "stdout",
          "output_type": "stream",
          "text": [
            "Random Seed:  999\n"
          ]
        }
      ],
      "source": [
        "#%matplotlib inline\n",
        "import argparse\n",
        "import os\n",
        "import random\n",
        "import torch\n",
        "import torch.nn as nn\n",
        "import torch.nn.parallel\n",
        "import torch.optim as optim\n",
        "import torch.utils.data\n",
        "import torchvision.datasets as dset\n",
        "import torchvision.utils as vutils\n",
        "from torchvision.transforms import v2\n",
        "from torchvision.datasets import ImageFolder\n",
        "from torch.utils.data import DataLoader\n",
        "import numpy as np\n",
        "import matplotlib.pyplot as plt\n",
        "import matplotlib.animation as animation\n",
        "from IPython.display import HTML\n",
        "from tqdm import tqdm\n",
        "\n",
        "# Set random seed for reproducibility\n",
        "manualSeed = 999\n",
        "#manualSeed = random.randint(1, 10000) # use if you want new results\n",
        "print(\"Random Seed: \", manualSeed)\n",
        "random.seed(manualSeed)\n",
        "torch.manual_seed(manualSeed)\n",
        "torch.use_deterministic_algorithms(True) # Needed for reproducible results"
      ]
    },
    {
      "cell_type": "markdown",
      "metadata": {
        "id": "zYKMVLJaPFkD"
      },
      "source": [
        "# MANGA Dataset\n",
        "---"
      ]
    },
    {
      "cell_type": "markdown",
      "metadata": {
        "id": "C4lZ-n0-PFkD"
      },
      "source": [
        "### Preprocessing"
      ]
    },
    {
      "cell_type": "code",
      "execution_count": 2,
      "metadata": {
        "colab": {
          "base_uri": "https://localhost:8080/"
        },
        "id": "ifSy3eBAqqFU",
        "outputId": "2edc6859-86a2-44a3-d3d3-99468bf42aa8"
      },
      "outputs": [
        {
          "name": "stdout",
          "output_type": "stream",
          "text": [
            "Mounted at /content/drive\n"
          ]
        }
      ],
      "source": [
        "from google.colab import drive\n",
        "drive.mount('/content/drive')"
      ]
    },
    {
      "cell_type": "code",
      "execution_count": 3,
      "metadata": {
        "colab": {
          "base_uri": "https://localhost:8080/"
        },
        "id": "TINdswdK6QBM",
        "outputId": "2c704b49-4eed-415a-8c90-730d050a761e"
      },
      "outputs": [
        {
          "name": "stdout",
          "output_type": "stream",
          "text": [
            "drive  sample_data\n"
          ]
        }
      ],
      "source": [
        "!ls"
      ]
    },
    {
      "cell_type": "code",
      "execution_count": 10,
      "metadata": {
        "id": "qxdo5ZaH5qpN"
      },
      "outputs": [],
      "source": [
        "# # Unzipping\n",
        "# !unzip /content/drive/MyDrive/animeface-character-dataset.zip"
      ]
    },
    {
      "cell_type": "code",
      "execution_count": 5,
      "metadata": {
        "colab": {
          "base_uri": "https://localhost:8080/"
        },
        "id": "P5s9mwodrHLz",
        "outputId": "81edad68-eec9-45d8-b56b-7ea995c7af34"
      },
      "outputs": [
        {
          "name": "stdout",
          "output_type": "stream",
          "text": [
            "ls: cannot access '/drive/My Drive': No such file or directory\n"
          ]
        }
      ],
      "source": [
        "!ls \"$content/drive/My Drive\""
      ]
    },
    {
      "cell_type": "code",
      "execution_count": 58,
      "metadata": {
        "colab": {
          "base_uri": "https://localhost:8080/"
        },
        "id": "6VYUK9w-PFkD",
        "outputId": "17f72ebf-6ef5-47a5-ef0f-5d064d94da3c"
      },
      "outputs": [
        {
          "name": "stderr",
          "output_type": "stream",
          "text": [
            "/usr/local/lib/python3.10/dist-packages/torchvision/transforms/v2/_deprecated.py:41: UserWarning: The transform `ToTensor()` is deprecated and will be removed in a future release. Instead, please use `v2.Compose([v2.ToImage(), v2.ToDtype(torch.float32, scale=True)])`.\n",
            "  warnings.warn(\n"
          ]
        }
      ],
      "source": [
        "# Training and Validation data\n",
        "transforms = v2.Compose([\n",
        "    v2.Resize((64, 64)), # Resize to 224x224\n",
        "    v2.ToTensor(),\n",
        "    v2.Normalize(mean=[0.5,0.5,0.5], std=[0.5,0.5,0.5]), # Normalize\n",
        "])\n",
        "\n",
        "# Create Datasets for Training and Validation\n",
        "PATH = '/content/animeface-character-dataset' # change path accordingly\n",
        "train_dataset = ImageFolder(PATH, transform=transforms)"
      ]
    },
    {
      "cell_type": "code",
      "execution_count": 12,
      "metadata": {
        "colab": {
          "base_uri": "https://localhost:8080/"
        },
        "id": "sjKzk1gUPFkD",
        "outputId": "dc7a9700-ede6-4e16-c936-64d91446cc8f"
      },
      "outputs": [
        {
          "data": {
            "text/plain": [
              "Dataset ImageFolder\n",
              "    Number of datapoints: 19508\n",
              "    Root location: /content/animeface-character-dataset\n",
              "    StandardTransform\n",
              "Transform: Compose(\n",
              "                 Resize(size=[64, 64], interpolation=InterpolationMode.BILINEAR, antialias=True)\n",
              "                 ToTensor()\n",
              "                 Normalize(mean=[0.5, 0.5, 0.5], std=[0.5, 0.5, 0.5], inplace=False)\n",
              "           )"
            ]
          },
          "execution_count": 12,
          "metadata": {},
          "output_type": "execute_result"
        }
      ],
      "source": [
        "train_dataset"
      ]
    },
    {
      "cell_type": "code",
      "execution_count": 13,
      "metadata": {
        "id": "8RRIibGsPFkE"
      },
      "outputs": [],
      "source": [
        "# Create a DataLoader for batching and shuffling the data\n",
        "dataloader = DataLoader(train_dataset, batch_size=32, shuffle=True)"
      ]
    },
    {
      "cell_type": "markdown",
      "metadata": {
        "id": "nkK2TtJvPFkE"
      },
      "source": [
        "# Generator\n",
        "---"
      ]
    },
    {
      "cell_type": "code",
      "execution_count": 14,
      "metadata": {
        "id": "TPvRs_9YPFkE"
      },
      "outputs": [],
      "source": [
        "class Generator(nn.Module):\n",
        "    def __init__(self, maps = 64, noise_size = 128):\n",
        "        super(Generator, self).__init__()\n",
        "        self.model = nn.Sequential(\n",
        "            # input is Z, going into a convolution\n",
        "            nn.ConvTranspose2d(noise_size, maps * 8, 4, 1, 0, bias=False),\n",
        "            nn.BatchNorm2d(maps * 8),\n",
        "            nn.ReLU(True),\n",
        "            # state size. (maps*8) x 4 x 4\n",
        "            nn.ConvTranspose2d(maps * 8, maps * 4, 4, 2, 1, bias=False),\n",
        "            nn.BatchNorm2d(maps * 4),\n",
        "            nn.ReLU(True),\n",
        "            # state size. (maps*4) x 8 x 8\n",
        "            nn.ConvTranspose2d(maps * 4, maps * 2, 4, 2, 1, bias=False),\n",
        "            nn.BatchNorm2d(maps * 2),\n",
        "            nn.ReLU(True),\n",
        "            # state size. (maps*2) x 16 x 16\n",
        "            nn.ConvTranspose2d(maps * 2, maps, 4, 2, 1, bias=False),\n",
        "            nn.BatchNorm2d(maps),\n",
        "            nn.ReLU(True),\n",
        "            # state size. (maps) x 32 x 32\n",
        "            nn.ConvTranspose2d(maps, 3, 4, 2, 1, bias=False),\n",
        "            nn.Tanh()\n",
        "            # state size. 3 x 64 x 64\n",
        "        )\n",
        "\n",
        "    def forward(self, x):\n",
        "        return self.model(x)"
      ]
    },
    {
      "cell_type": "code",
      "execution_count": 15,
      "metadata": {
        "colab": {
          "base_uri": "https://localhost:8080/",
          "height": 449
        },
        "id": "2AtvB1DHPFkE",
        "outputId": "ffef3198-724f-4fb3-eba0-ed90a966fb87"
      },
      "outputs": [
        {
          "name": "stderr",
          "output_type": "stream",
          "text": [
            "WARNING:matplotlib.image:Clipping input data to the valid range for imshow with RGB data ([0..1] for floats or [0..255] for integers).\n"
          ]
        },
        {
          "data": {
            "image/png": "[encoded data removed]",
            "text/plain": [
              "<Figure size 640x480 with 1 Axes>"
            ]
          },
          "metadata": {},
          "output_type": "display_data"
        }
      ],
      "source": [
        "generator = Generator()\n",
        "noise = torch.randn(64, 128, 1, 1)\n",
        "output = generator(noise)\n",
        "plt.imshow(output[0].detach().numpy().transpose(1, 2, 0))\n",
        "plt.show()"
      ]
    },
    {
      "cell_type": "markdown",
      "metadata": {
        "id": "WKz1BgTbPFkE"
      },
      "source": [
        "# Discriminator\n",
        "---"
      ]
    },
    {
      "cell_type": "code",
      "execution_count": null,
      "metadata": {
        "id": "ISrwKxW0PFkE"
      },
      "outputs": [],
      "source": [
        "class Discriminator(nn.Module):\n",
        "    def __init__(self, maps = 64):\n",
        "        super(Discriminator, self).__init__()\n",
        "        self.model = nn.Sequential(\n",
        "            # input is (3) x 64 x 64\n",
        "            nn.Conv2d(3, maps, 4, 2, 1, bias=False),\n",
        "            nn.LeakyReLU(0.2, inplace=True),\n",
        "            # state size. (maps) x 32 x 32\n",
        "            nn.Conv2d(maps, maps * 2, 4, 2, 1, bias=False),\n",
        "            nn.BatchNorm2d(maps * 2),\n",
        "            nn.LeakyReLU(0.2, inplace=True),\n",
        "            # state size. (maps*2) x 16 x 16\n",
        "            nn.Conv2d(maps * 2, maps * 4, 4, 2, 1, bias=False),\n",
        "            nn.BatchNorm2d(maps * 4),\n",
        "            nn.LeakyReLU(0.2, inplace=True),\n",
        "            # state size. (maps*4) x 8 x 8\n",
        "            nn.Conv2d(maps * 4, maps * 8, 4, 2, 1, bias=False),\n",
        "            nn.BatchNorm2d(maps * 8),\n",
        "            nn.LeakyReLU(0.2, inplace=True),\n",
        "            # state size. (maps*8) x 4 x 4\n",
        "            nn.Conv2d(maps * 8, 1, 4, 1, 0, bias=False),\n",
        "            nn.Flatten(),\n",
        "            nn.Sigmoid()\n",
        "        )\n",
        "\n",
        "    def forward(self, x):\n",
        "        return self.model(x)"
      ]
    },
    {
      "cell_type": "code",
      "execution_count": null,
      "metadata": {
        "colab": {
          "base_uri": "https://localhost:8080/"
        },
        "id": "tG34EdMXPFkE",
        "outputId": "ce04e0e0-be5d-4423-b531-ec2e5f324b60"
      },
      "outputs": [
        {
          "data": {
            "text/plain": [
              "torch.Size([64, 1])"
            ]
          },
          "execution_count": 12,
          "metadata": {},
          "output_type": "execute_result"
        }
      ],
      "source": [
        "# Instantiate the discriminator\n",
        "discriminator = Discriminator()\n",
        "output_discriminator = discriminator(output)\n",
        "output_discriminator.shape"
      ]
    },
    {
      "cell_type": "code",
      "execution_count": null,
      "metadata": {
        "colab": {
          "base_uri": "https://localhost:8080/"
        },
        "id": "ycEJDTjsPFkE",
        "outputId": "c5fc932d-cb96-475a-c4ce-97737d908ec3"
      },
      "outputs": [
        {
          "data": {
            "text/plain": [
              "torch.Size([64, 3, 64, 64])"
            ]
          },
          "execution_count": 13,
          "metadata": {},
          "output_type": "execute_result"
        }
      ],
      "source": [
        "output.shape"
      ]
    },
    {
      "cell_type": "markdown",
      "metadata": {
        "id": "F0zVAIm8PFkE"
      },
      "source": [
        "# Training Loop\n",
        "---"
      ]
    },
    {
      "cell_type": "code",
      "execution_count": null,
      "metadata": {
        "id": "UdRVrPIw8BqI"
      },
      "outputs": [],
      "source": [
        "# First time running the generator and discriminator\n",
        "\n",
        "# generator = Generator()\n",
        "# discriminator = Discriminator()"
      ]
    },
    {
      "cell_type": "code",
      "execution_count": null,
      "metadata": {
        "id": "z56rYUAM7l4d"
      },
      "outputs": [],
      "source": [
        "import pickle\n",
        "\n",
        "# Read in the generator and discriminator saved after 50 epochs\n",
        "with open('/content/drive/MyDrive/generator_200.pkl', 'rb') as f:\n",
        "    generator = pickle.load(f)\n",
        "\n",
        "with open('/content/drive/MyDrive/discriminator_200.pkl', 'rb') as f:\n",
        "    discriminator = pickle.load(f)"
      ]
    },
    {
      "cell_type": "code",
      "execution_count": null,
      "metadata": {
        "colab": {
          "base_uri": "https://localhost:8080/"
        },
        "id": "IOvmdgMbPFkF",
        "outputId": "9fe40416-0758-4b13-db6f-f5e2071630c6"
      },
      "outputs": [
        {
          "name": "stdout",
          "output_type": "stream",
          "text": [
            "GPU is available\n",
            "GPU device name: Tesla T4\n"
          ]
        },
        {
          "name": "stderr",
          "output_type": "stream",
          "text": [
            "\r  0%|          | 0/100 [00:00<?, ?it/s]"
          ]
        },
        {
          "name": "stdout",
          "output_type": "stream",
          "text": [
            "Epoch [1/100], Step [100/610], Generator Loss: 10.4148, Discriminator Loss: 0.0038\n",
            "Epoch [1/100], Step [200/610], Generator Loss: 11.1127, Discriminator Loss: 0.2727\n",
            "Epoch [1/100], Step [300/610], Generator Loss: 6.3109, Discriminator Loss: 0.0325\n",
            "Epoch [1/100], Step [400/610], Generator Loss: 6.9334, Discriminator Loss: 0.0133\n",
            "Epoch [1/100], Step [500/610], Generator Loss: 7.2897, Discriminator Loss: 0.0116\n",
            "Epoch [1/100], Step [600/610], Generator Loss: 17.8960, Discriminator Loss: 0.0045\n"
          ]
        },
        {
          "name": "stderr",
          "output_type": "stream",
          "text": [
            "\r  1%|          | 1/100 [00:47<1:17:49, 47.17s/it]"
          ]
        },
        {
          "name": "stdout",
          "output_type": "stream",
          "text": [
            "Epoch [2/100], Step [100/610], Generator Loss: 10.9288, Discriminator Loss: 0.0052\n",
            "Epoch [2/100], Step [200/610], Generator Loss: 13.0320, Discriminator Loss: 0.0015\n",
            "Epoch [2/100], Step [300/610], Generator Loss: 11.3528, Discriminator Loss: 0.0005\n",
            "Epoch [2/100], Step [400/610], Generator Loss: 8.1058, Discriminator Loss: 0.0101\n",
            "Epoch [2/100], Step [500/610], Generator Loss: 9.8985, Discriminator Loss: 0.0332\n",
            "Epoch [2/100], Step [600/610], Generator Loss: 7.5869, Discriminator Loss: 0.0101\n"
          ]
        },
        {
          "name": "stderr",
          "output_type": "stream",
          "text": [
            "\r  2%|▏         | 2/100 [01:33<1:15:53, 46.46s/it]"
          ]
        },
        {
          "name": "stdout",
          "output_type": "stream",
          "text": [
            "Epoch [3/100], Step [100/610], Generator Loss: 7.2971, Discriminator Loss: 0.2828\n",
            "Epoch [3/100], Step [200/610], Generator Loss: 8.5637, Discriminator Loss: 0.0033\n",
            "Epoch [3/100], Step [300/610], Generator Loss: 11.0616, Discriminator Loss: 0.0111\n",
            "Epoch [3/100], Step [400/610], Generator Loss: 7.5728, Discriminator Loss: 0.0364\n",
            "Epoch [3/100], Step [500/610], Generator Loss: 8.0458, Discriminator Loss: 0.0031\n",
            "Epoch [3/100], Step [600/610], Generator Loss: 6.5176, Discriminator Loss: 0.0796\n"
          ]
        },
        {
          "name": "stderr",
          "output_type": "stream",
          "text": [
            "\r  3%|▎         | 3/100 [02:16<1:13:03, 45.19s/it]"
          ]
        },
        {
          "name": "stdout",
          "output_type": "stream",
          "text": [
            "Epoch [4/100], Step [100/610], Generator Loss: 8.3733, Discriminator Loss: 0.0254\n",
            "Epoch [4/100], Step [200/610], Generator Loss: 7.9986, Discriminator Loss: 0.0524\n",
            "Epoch [4/100], Step [300/610], Generator Loss: 8.8214, Discriminator Loss: 0.0226\n",
            "Epoch [4/100], Step [400/610], Generator Loss: 8.2322, Discriminator Loss: 0.0071\n",
            "Epoch [4/100], Step [500/610], Generator Loss: 6.2355, Discriminator Loss: 0.0454\n",
            "Epoch [4/100], Step [600/610], Generator Loss: 8.7169, Discriminator Loss: 0.0077\n"
          ]
        },
        {
          "name": "stderr",
          "output_type": "stream",
          "text": [
            "\r  4%|▍         | 4/100 [03:00<1:11:03, 44.41s/it]"
          ]
        },
        {
          "name": "stdout",
          "output_type": "stream",
          "text": [
            "Epoch [5/100], Step [100/610], Generator Loss: 11.5763, Discriminator Loss: 0.0044\n",
            "Epoch [5/100], Step [200/610], Generator Loss: 11.7455, Discriminator Loss: 0.0060\n",
            "Epoch [5/100], Step [300/610], Generator Loss: 7.3355, Discriminator Loss: 0.0174\n",
            "Epoch [5/100], Step [400/610], Generator Loss: 10.0428, Discriminator Loss: 0.1760\n",
            "Epoch [5/100], Step [500/610], Generator Loss: 9.0620, Discriminator Loss: 0.0055\n",
            "Epoch [5/100], Step [600/610], Generator Loss: 7.6496, Discriminator Loss: 0.0034\n"
          ]
        },
        {
          "name": "stderr",
          "output_type": "stream",
          "text": [
            "\r  5%|▌         | 5/100 [03:44<1:10:23, 44.45s/it]"
          ]
        },
        {
          "name": "stdout",
          "output_type": "stream",
          "text": [
            "Epoch [6/100], Step [100/610], Generator Loss: 12.6617, Discriminator Loss: 0.0262\n",
            "Epoch [6/100], Step [200/610], Generator Loss: 8.0613, Discriminator Loss: 0.0023\n",
            "Epoch [6/100], Step [300/610], Generator Loss: 8.8135, Discriminator Loss: 0.0015\n",
            "Epoch [6/100], Step [400/610], Generator Loss: 7.5319, Discriminator Loss: 0.0160\n",
            "Epoch [6/100], Step [500/610], Generator Loss: 8.6122, Discriminator Loss: 0.0094\n",
            "Epoch [6/100], Step [600/610], Generator Loss: 8.0792, Discriminator Loss: 0.0018\n"
          ]
        },
        {
          "name": "stderr",
          "output_type": "stream",
          "text": [
            "\r  6%|▌         | 6/100 [04:27<1:09:02, 44.07s/it]"
          ]
        },
        {
          "name": "stdout",
          "output_type": "stream",
          "text": [
            "Epoch [7/100], Step [100/610], Generator Loss: 7.8334, Discriminator Loss: 0.0155\n",
            "Epoch [7/100], Step [200/610], Generator Loss: 8.6695, Discriminator Loss: 0.0066\n",
            "Epoch [7/100], Step [300/610], Generator Loss: 6.6710, Discriminator Loss: 0.1639\n",
            "Epoch [7/100], Step [400/610], Generator Loss: 13.0399, Discriminator Loss: 0.5532\n",
            "Epoch [7/100], Step [500/610], Generator Loss: 8.6554, Discriminator Loss: 0.0069\n",
            "Epoch [7/100], Step [600/610], Generator Loss: 12.1368, Discriminator Loss: 0.0822\n"
          ]
        },
        {
          "name": "stderr",
          "output_type": "stream",
          "text": [
            "\r  7%|▋         | 7/100 [05:11<1:08:15, 44.04s/it]"
          ]
        },
        {
          "name": "stdout",
          "output_type": "stream",
          "text": [
            "Epoch [8/100], Step [100/610], Generator Loss: 7.1901, Discriminator Loss: 0.0119\n",
            "Epoch [8/100], Step [200/610], Generator Loss: 8.6378, Discriminator Loss: 0.0094\n",
            "Epoch [8/100], Step [300/610], Generator Loss: 10.4013, Discriminator Loss: 0.0313\n",
            "Epoch [8/100], Step [400/610], Generator Loss: 11.6636, Discriminator Loss: 0.0016\n",
            "Epoch [8/100], Step [500/610], Generator Loss: 7.6454, Discriminator Loss: 0.0083\n",
            "Epoch [8/100], Step [600/610], Generator Loss: 10.8533, Discriminator Loss: 0.0047\n"
          ]
        },
        {
          "name": "stderr",
          "output_type": "stream",
          "text": [
            "\r  8%|▊         | 8/100 [05:56<1:08:01, 44.37s/it]"
          ]
        },
        {
          "name": "stdout",
          "output_type": "stream",
          "text": [
            "Epoch [9/100], Step [100/610], Generator Loss: 9.7502, Discriminator Loss: 0.0012\n",
            "Epoch [9/100], Step [200/610], Generator Loss: 6.6555, Discriminator Loss: 0.0437\n",
            "Epoch [9/100], Step [300/610], Generator Loss: 6.4385, Discriminator Loss: 0.0539\n",
            "Epoch [9/100], Step [400/610], Generator Loss: 11.6821, Discriminator Loss: 0.0185\n",
            "Epoch [9/100], Step [500/610], Generator Loss: 8.5377, Discriminator Loss: 0.0049\n",
            "Epoch [9/100], Step [600/610], Generator Loss: 6.6925, Discriminator Loss: 0.0703\n"
          ]
        },
        {
          "name": "stderr",
          "output_type": "stream",
          "text": [
            "\r  9%|▉         | 9/100 [06:40<1:06:46, 44.03s/it]"
          ]
        },
        {
          "name": "stdout",
          "output_type": "stream",
          "text": [
            "Epoch [10/100], Step [100/610], Generator Loss: 10.7598, Discriminator Loss: 0.0099\n",
            "Epoch [10/100], Step [200/610], Generator Loss: 8.8468, Discriminator Loss: 0.0178\n",
            "Epoch [10/100], Step [300/610], Generator Loss: 7.9744, Discriminator Loss: 0.1625\n",
            "Epoch [10/100], Step [400/610], Generator Loss: 9.0776, Discriminator Loss: 0.0086\n",
            "Epoch [10/100], Step [500/610], Generator Loss: 13.3921, Discriminator Loss: 0.0214\n",
            "Epoch [10/100], Step [600/610], Generator Loss: 12.4805, Discriminator Loss: 0.0058\n"
          ]
        },
        {
          "name": "stderr",
          "output_type": "stream",
          "text": [
            "\r 10%|█         | 10/100 [07:23<1:05:52, 43.91s/it]"
          ]
        },
        {
          "name": "stdout",
          "output_type": "stream",
          "text": [
            "Epoch [11/100], Step [100/610], Generator Loss: 6.8496, Discriminator Loss: 0.0086\n",
            "Epoch [11/100], Step [200/610], Generator Loss: 8.6012, Discriminator Loss: 0.0193\n",
            "Epoch [11/100], Step [300/610], Generator Loss: 7.3369, Discriminator Loss: 0.0114\n",
            "Epoch [11/100], Step [400/610], Generator Loss: 9.7677, Discriminator Loss: 0.0007\n",
            "Epoch [11/100], Step [500/610], Generator Loss: 10.2269, Discriminator Loss: 0.0114\n",
            "Epoch [11/100], Step [600/610], Generator Loss: 6.8045, Discriminator Loss: 0.0072\n"
          ]
        },
        {
          "name": "stderr",
          "output_type": "stream",
          "text": [
            "\r 11%|█         | 11/100 [08:07<1:05:03, 43.86s/it]"
          ]
        },
        {
          "name": "stdout",
          "output_type": "stream",
          "text": [
            "Epoch [12/100], Step [100/610], Generator Loss: 9.6519, Discriminator Loss: 0.1474\n",
            "Epoch [12/100], Step [200/610], Generator Loss: 9.1199, Discriminator Loss: 0.0024\n",
            "Epoch [12/100], Step [300/610], Generator Loss: 13.2304, Discriminator Loss: 0.0179\n",
            "Epoch [12/100], Step [400/610], Generator Loss: 9.9094, Discriminator Loss: 0.0121\n",
            "Epoch [12/100], Step [500/610], Generator Loss: 9.7984, Discriminator Loss: 0.0160\n",
            "Epoch [12/100], Step [600/610], Generator Loss: 7.8747, Discriminator Loss: 0.0050\n"
          ]
        },
        {
          "name": "stderr",
          "output_type": "stream",
          "text": [
            "\r 12%|█▏        | 12/100 [08:53<1:05:05, 44.38s/it]"
          ]
        },
        {
          "name": "stdout",
          "output_type": "stream",
          "text": [
            "Epoch [13/100], Step [100/610], Generator Loss: 14.1827, Discriminator Loss: 0.0025\n",
            "Epoch [13/100], Step [200/610], Generator Loss: 14.8141, Discriminator Loss: 0.0033\n",
            "Epoch [13/100], Step [300/610], Generator Loss: 9.0131, Discriminator Loss: 0.0373\n",
            "Epoch [13/100], Step [400/610], Generator Loss: 5.0146, Discriminator Loss: 0.0563\n",
            "Epoch [13/100], Step [500/610], Generator Loss: 8.8505, Discriminator Loss: 0.0033\n",
            "Epoch [13/100], Step [600/610], Generator Loss: 6.7086, Discriminator Loss: 0.0207\n"
          ]
        },
        {
          "name": "stderr",
          "output_type": "stream",
          "text": [
            "\r 13%|█▎        | 13/100 [09:36<1:03:55, 44.09s/it]"
          ]
        },
        {
          "name": "stdout",
          "output_type": "stream",
          "text": [
            "Epoch [14/100], Step [100/610], Generator Loss: 7.6332, Discriminator Loss: 0.0082\n",
            "Epoch [14/100], Step [200/610], Generator Loss: 10.2046, Discriminator Loss: 0.0104\n",
            "Epoch [14/100], Step [300/610], Generator Loss: 12.7547, Discriminator Loss: 0.0066\n",
            "Epoch [14/100], Step [400/610], Generator Loss: 9.0789, Discriminator Loss: 0.0100\n",
            "Epoch [14/100], Step [500/610], Generator Loss: 13.6914, Discriminator Loss: 0.0019\n",
            "Epoch [14/100], Step [600/610], Generator Loss: 10.0555, Discriminator Loss: 0.0049\n"
          ]
        },
        {
          "name": "stderr",
          "output_type": "stream",
          "text": [
            "\r 14%|█▍        | 14/100 [10:20<1:02:59, 43.95s/it]"
          ]
        },
        {
          "name": "stdout",
          "output_type": "stream",
          "text": [
            "Epoch [15/100], Step [100/610], Generator Loss: 7.5516, Discriminator Loss: 0.0099\n",
            "Epoch [15/100], Step [200/610], Generator Loss: 11.9210, Discriminator Loss: 0.0091\n",
            "Epoch [15/100], Step [300/610], Generator Loss: 6.7369, Discriminator Loss: 0.0136\n",
            "Epoch [15/100], Step [400/610], Generator Loss: 9.7143, Discriminator Loss: 0.0014\n",
            "Epoch [15/100], Step [500/610], Generator Loss: 9.9773, Discriminator Loss: 0.0036\n",
            "Epoch [15/100], Step [600/610], Generator Loss: 11.5613, Discriminator Loss: 0.0130\n"
          ]
        },
        {
          "name": "stderr",
          "output_type": "stream",
          "text": [
            "\r 15%|█▌        | 15/100 [11:05<1:02:38, 44.21s/it]"
          ]
        },
        {
          "name": "stdout",
          "output_type": "stream",
          "text": [
            "Epoch [16/100], Step [100/610], Generator Loss: 14.1065, Discriminator Loss: 0.0034\n",
            "Epoch [16/100], Step [200/610], Generator Loss: 7.6620, Discriminator Loss: 0.0040\n",
            "Epoch [16/100], Step [300/610], Generator Loss: 11.7029, Discriminator Loss: 0.0199\n",
            "Epoch [16/100], Step [400/610], Generator Loss: 6.6587, Discriminator Loss: 0.0215\n",
            "Epoch [16/100], Step [500/610], Generator Loss: 10.5530, Discriminator Loss: 0.0202\n",
            "Epoch [16/100], Step [600/610], Generator Loss: 11.7757, Discriminator Loss: 0.0038\n"
          ]
        },
        {
          "name": "stderr",
          "output_type": "stream",
          "text": [
            "\r 16%|█▌        | 16/100 [11:49<1:01:56, 44.24s/it]"
          ]
        },
        {
          "name": "stdout",
          "output_type": "stream",
          "text": [
            "Epoch [17/100], Step [100/610], Generator Loss: 6.7302, Discriminator Loss: 0.0108\n",
            "Epoch [17/100], Step [200/610], Generator Loss: 12.0439, Discriminator Loss: 0.0062\n",
            "Epoch [17/100], Step [300/610], Generator Loss: 5.9924, Discriminator Loss: 0.1291\n",
            "Epoch [17/100], Step [400/610], Generator Loss: 7.7612, Discriminator Loss: 0.0106\n",
            "Epoch [17/100], Step [500/610], Generator Loss: 9.1938, Discriminator Loss: 0.0152\n",
            "Epoch [17/100], Step [600/610], Generator Loss: 7.9895, Discriminator Loss: 0.0064\n"
          ]
        },
        {
          "name": "stderr",
          "output_type": "stream",
          "text": [
            "\r 17%|█▋        | 17/100 [12:33<1:01:14, 44.27s/it]"
          ]
        },
        {
          "name": "stdout",
          "output_type": "stream",
          "text": [
            "Epoch [18/100], Step [100/610], Generator Loss: 7.5753, Discriminator Loss: 0.3177\n",
            "Epoch [18/100], Step [200/610], Generator Loss: 8.3805, Discriminator Loss: 0.1945\n",
            "Epoch [18/100], Step [300/610], Generator Loss: 9.2926, Discriminator Loss: 0.0032\n",
            "Epoch [18/100], Step [400/610], Generator Loss: 11.9136, Discriminator Loss: 0.1445\n",
            "Epoch [18/100], Step [500/610], Generator Loss: 10.7285, Discriminator Loss: 0.0018\n",
            "Epoch [18/100], Step [600/610], Generator Loss: 9.8212, Discriminator Loss: 0.0050\n"
          ]
        },
        {
          "name": "stderr",
          "output_type": "stream",
          "text": [
            "\r 18%|█▊        | 18/100 [13:17<1:00:09, 44.02s/it]"
          ]
        },
        {
          "name": "stdout",
          "output_type": "stream",
          "text": [
            "Epoch [19/100], Step [100/610], Generator Loss: 12.3798, Discriminator Loss: 0.0038\n",
            "Epoch [19/100], Step [200/610], Generator Loss: 7.3912, Discriminator Loss: 0.0130\n",
            "Epoch [19/100], Step [300/610], Generator Loss: 11.2172, Discriminator Loss: 0.0003\n",
            "Epoch [19/100], Step [400/610], Generator Loss: 10.5171, Discriminator Loss: 0.0388\n",
            "Epoch [19/100], Step [500/610], Generator Loss: 13.0396, Discriminator Loss: 0.0039\n",
            "Epoch [19/100], Step [600/610], Generator Loss: 6.7656, Discriminator Loss: 0.0162\n"
          ]
        },
        {
          "name": "stderr",
          "output_type": "stream",
          "text": [
            "\r 19%|█▉        | 19/100 [14:01<59:38, 44.18s/it]  "
          ]
        },
        {
          "name": "stdout",
          "output_type": "stream",
          "text": [
            "Epoch [20/100], Step [100/610], Generator Loss: 8.6537, Discriminator Loss: 0.0074\n",
            "Epoch [20/100], Step [200/610], Generator Loss: 13.6469, Discriminator Loss: 0.0034\n",
            "Epoch [20/100], Step [300/610], Generator Loss: 5.0948, Discriminator Loss: 0.1082\n",
            "Epoch [20/100], Step [400/610], Generator Loss: 9.2397, Discriminator Loss: 0.0048\n",
            "Epoch [20/100], Step [500/610], Generator Loss: 16.5270, Discriminator Loss: 0.0011\n",
            "Epoch [20/100], Step [600/610], Generator Loss: 7.4976, Discriminator Loss: 0.0694\n"
          ]
        },
        {
          "name": "stderr",
          "output_type": "stream",
          "text": [
            "\r 20%|██        | 20/100 [14:45<58:34, 43.94s/it]"
          ]
        },
        {
          "name": "stdout",
          "output_type": "stream",
          "text": [
            "Epoch [21/100], Step [100/610], Generator Loss: 13.1980, Discriminator Loss: 0.0028\n",
            "Epoch [21/100], Step [200/610], Generator Loss: 11.8385, Discriminator Loss: 0.0018\n",
            "Epoch [21/100], Step [300/610], Generator Loss: 8.9471, Discriminator Loss: 0.0295\n",
            "Epoch [21/100], Step [400/610], Generator Loss: 12.9943, Discriminator Loss: 0.0035\n",
            "Epoch [21/100], Step [500/610], Generator Loss: 13.7842, Discriminator Loss: 0.0061\n",
            "Epoch [21/100], Step [600/610], Generator Loss: 10.0037, Discriminator Loss: 0.0014\n"
          ]
        },
        {
          "name": "stderr",
          "output_type": "stream",
          "text": [
            "\r 21%|██        | 21/100 [15:28<57:48, 43.91s/it]"
          ]
        },
        {
          "name": "stdout",
          "output_type": "stream",
          "text": [
            "Epoch [22/100], Step [100/610], Generator Loss: 9.9787, Discriminator Loss: 0.0017\n",
            "Epoch [22/100], Step [200/610], Generator Loss: 10.5469, Discriminator Loss: 0.0049\n",
            "Epoch [22/100], Step [300/610], Generator Loss: 8.0419, Discriminator Loss: 0.0290\n",
            "Epoch [22/100], Step [400/610], Generator Loss: 11.2921, Discriminator Loss: 0.0147\n",
            "Epoch [22/100], Step [500/610], Generator Loss: 9.1063, Discriminator Loss: 0.0022\n",
            "Epoch [22/100], Step [600/610], Generator Loss: 6.3616, Discriminator Loss: 0.0353\n"
          ]
        },
        {
          "name": "stderr",
          "output_type": "stream",
          "text": [
            "\r 22%|██▏       | 22/100 [16:14<57:42, 44.40s/it]"
          ]
        },
        {
          "name": "stdout",
          "output_type": "stream",
          "text": [
            "Epoch [23/100], Step [100/610], Generator Loss: 4.2011, Discriminator Loss: 0.0717\n",
            "Epoch [23/100], Step [200/610], Generator Loss: 9.2536, Discriminator Loss: 0.0838\n",
            "Epoch [23/100], Step [300/610], Generator Loss: 15.1297, Discriminator Loss: 0.2296\n",
            "Epoch [23/100], Step [400/610], Generator Loss: 17.6560, Discriminator Loss: 0.0003\n",
            "Epoch [23/100], Step [500/610], Generator Loss: 8.8553, Discriminator Loss: 0.0344\n",
            "Epoch [23/100], Step [600/610], Generator Loss: 7.8855, Discriminator Loss: 0.0119\n"
          ]
        },
        {
          "name": "stderr",
          "output_type": "stream",
          "text": [
            "\r 23%|██▎       | 23/100 [16:58<56:48, 44.26s/it]"
          ]
        },
        {
          "name": "stdout",
          "output_type": "stream",
          "text": [
            "Epoch [24/100], Step [100/610], Generator Loss: 11.8306, Discriminator Loss: 0.0033\n",
            "Epoch [24/100], Step [200/610], Generator Loss: 12.1347, Discriminator Loss: 0.0331\n",
            "Epoch [24/100], Step [300/610], Generator Loss: 12.1135, Discriminator Loss: 0.0141\n",
            "Epoch [24/100], Step [400/610], Generator Loss: 12.2400, Discriminator Loss: 0.0067\n",
            "Epoch [24/100], Step [500/610], Generator Loss: 8.6754, Discriminator Loss: 0.0322\n",
            "Epoch [24/100], Step [600/610], Generator Loss: 6.9323, Discriminator Loss: 0.0464\n"
          ]
        },
        {
          "name": "stderr",
          "output_type": "stream",
          "text": [
            "\r 24%|██▍       | 24/100 [17:42<55:49, 44.08s/it]"
          ]
        },
        {
          "name": "stdout",
          "output_type": "stream",
          "text": [
            "Epoch [25/100], Step [100/610], Generator Loss: 13.6124, Discriminator Loss: 0.0017\n",
            "Epoch [25/100], Step [200/610], Generator Loss: 6.9420, Discriminator Loss: 0.0050\n",
            "Epoch [25/100], Step [300/610], Generator Loss: 12.2589, Discriminator Loss: 0.0021\n",
            "Epoch [25/100], Step [400/610], Generator Loss: 16.7981, Discriminator Loss: 0.0046\n",
            "Epoch [25/100], Step [500/610], Generator Loss: 10.2300, Discriminator Loss: 0.0019\n",
            "Epoch [25/100], Step [600/610], Generator Loss: 14.0545, Discriminator Loss: 0.0862\n"
          ]
        },
        {
          "name": "stderr",
          "output_type": "stream",
          "text": [
            "\r 25%|██▌       | 25/100 [18:25<54:53, 43.91s/it]"
          ]
        },
        {
          "name": "stdout",
          "output_type": "stream",
          "text": [
            "Epoch [26/100], Step [100/610], Generator Loss: 7.4368, Discriminator Loss: 0.0042\n",
            "Epoch [26/100], Step [200/610], Generator Loss: 9.5385, Discriminator Loss: 0.0322\n",
            "Epoch [26/100], Step [300/610], Generator Loss: 9.1021, Discriminator Loss: 0.0028\n",
            "Epoch [26/100], Step [400/610], Generator Loss: 9.9045, Discriminator Loss: 0.0007\n",
            "Epoch [26/100], Step [500/610], Generator Loss: 6.8371, Discriminator Loss: 0.0913\n",
            "Epoch [26/100], Step [600/610], Generator Loss: 15.6164, Discriminator Loss: 0.2034\n"
          ]
        },
        {
          "name": "stderr",
          "output_type": "stream",
          "text": [
            "\r 26%|██▌       | 26/100 [19:10<54:28, 44.17s/it]"
          ]
        },
        {
          "name": "stdout",
          "output_type": "stream",
          "text": [
            "Epoch [27/100], Step [100/610], Generator Loss: 12.0012, Discriminator Loss: 0.0449\n",
            "Epoch [27/100], Step [200/610], Generator Loss: 10.0560, Discriminator Loss: 0.0160\n",
            "Epoch [27/100], Step [300/610], Generator Loss: 10.2843, Discriminator Loss: 0.0100\n",
            "Epoch [27/100], Step [400/610], Generator Loss: 13.9358, Discriminator Loss: 0.0088\n",
            "Epoch [27/100], Step [500/610], Generator Loss: 9.2890, Discriminator Loss: 0.0062\n",
            "Epoch [27/100], Step [600/610], Generator Loss: 7.4955, Discriminator Loss: 0.0140\n"
          ]
        },
        {
          "name": "stderr",
          "output_type": "stream",
          "text": [
            "\r 27%|██▋       | 27/100 [19:53<53:30, 43.98s/it]"
          ]
        },
        {
          "name": "stdout",
          "output_type": "stream",
          "text": [
            "Epoch [28/100], Step [100/610], Generator Loss: 11.6009, Discriminator Loss: 0.0016\n",
            "Epoch [28/100], Step [200/610], Generator Loss: 1.8812, Discriminator Loss: 1.3090\n",
            "Epoch [28/100], Step [300/610], Generator Loss: 15.6297, Discriminator Loss: 0.0104\n",
            "Epoch [28/100], Step [400/610], Generator Loss: 7.0345, Discriminator Loss: 0.0142\n",
            "Epoch [28/100], Step [500/610], Generator Loss: 8.6205, Discriminator Loss: 0.0047\n",
            "Epoch [28/100], Step [600/610], Generator Loss: 11.3229, Discriminator Loss: 0.0003\n"
          ]
        },
        {
          "name": "stderr",
          "output_type": "stream",
          "text": [
            "\r 28%|██▊       | 28/100 [20:38<52:53, 44.08s/it]"
          ]
        },
        {
          "name": "stdout",
          "output_type": "stream",
          "text": [
            "Epoch [29/100], Step [100/610], Generator Loss: 11.2664, Discriminator Loss: 0.0270\n",
            "Epoch [29/100], Step [200/610], Generator Loss: 14.2928, Discriminator Loss: 0.0152\n",
            "Epoch [29/100], Step [300/610], Generator Loss: 17.4988, Discriminator Loss: 0.0026\n",
            "Epoch [29/100], Step [400/610], Generator Loss: 8.0509, Discriminator Loss: 0.0031\n",
            "Epoch [29/100], Step [500/610], Generator Loss: 7.8325, Discriminator Loss: 0.0029\n",
            "Epoch [29/100], Step [600/610], Generator Loss: 13.5980, Discriminator Loss: 0.0162\n"
          ]
        },
        {
          "name": "stderr",
          "output_type": "stream",
          "text": [
            "\r 29%|██▉       | 29/100 [21:23<52:37, 44.47s/it]"
          ]
        },
        {
          "name": "stdout",
          "output_type": "stream",
          "text": [
            "Epoch [30/100], Step [100/610], Generator Loss: 8.3500, Discriminator Loss: 0.0149\n",
            "Epoch [30/100], Step [200/610], Generator Loss: 10.0388, Discriminator Loss: 0.0181\n",
            "Epoch [30/100], Step [300/610], Generator Loss: 10.4240, Discriminator Loss: 0.0009\n",
            "Epoch [30/100], Step [400/610], Generator Loss: 8.1698, Discriminator Loss: 0.0176\n",
            "Epoch [30/100], Step [500/610], Generator Loss: 14.5831, Discriminator Loss: 0.0083\n",
            "Epoch [30/100], Step [600/610], Generator Loss: 13.1530, Discriminator Loss: 0.1091\n"
          ]
        },
        {
          "name": "stderr",
          "output_type": "stream",
          "text": [
            "\r 30%|███       | 30/100 [22:07<51:34, 44.21s/it]"
          ]
        },
        {
          "name": "stdout",
          "output_type": "stream",
          "text": [
            "Epoch [31/100], Step [100/610], Generator Loss: 8.3727, Discriminator Loss: 0.0055\n",
            "Epoch [31/100], Step [200/610], Generator Loss: 11.9020, Discriminator Loss: 0.0217\n",
            "Epoch [31/100], Step [300/610], Generator Loss: 11.2393, Discriminator Loss: 0.0091\n",
            "Epoch [31/100], Step [400/610], Generator Loss: 7.1399, Discriminator Loss: 0.0064\n",
            "Epoch [31/100], Step [500/610], Generator Loss: 9.3769, Discriminator Loss: 0.0183\n",
            "Epoch [31/100], Step [600/610], Generator Loss: 7.9144, Discriminator Loss: 0.0316\n"
          ]
        },
        {
          "name": "stderr",
          "output_type": "stream",
          "text": [
            "\r 31%|███       | 31/100 [22:50<50:31, 43.94s/it]"
          ]
        },
        {
          "name": "stdout",
          "output_type": "stream",
          "text": [
            "Epoch [32/100], Step [100/610], Generator Loss: 12.3334, Discriminator Loss: 0.0128\n",
            "Epoch [32/100], Step [200/610], Generator Loss: 13.8800, Discriminator Loss: 0.0020\n",
            "Epoch [32/100], Step [300/610], Generator Loss: 17.2545, Discriminator Loss: 0.0011\n",
            "Epoch [32/100], Step [400/610], Generator Loss: 7.2589, Discriminator Loss: 0.0401\n",
            "Epoch [32/100], Step [500/610], Generator Loss: 12.3199, Discriminator Loss: 0.0395\n",
            "Epoch [32/100], Step [600/610], Generator Loss: 12.4545, Discriminator Loss: 0.0010\n"
          ]
        },
        {
          "name": "stderr",
          "output_type": "stream",
          "text": [
            "\r 32%|███▏      | 32/100 [23:33<49:38, 43.80s/it]"
          ]
        },
        {
          "name": "stdout",
          "output_type": "stream",
          "text": [
            "Epoch [33/100], Step [100/610], Generator Loss: 13.2027, Discriminator Loss: 0.1723\n",
            "Epoch [33/100], Step [200/610], Generator Loss: 15.4586, Discriminator Loss: 0.0136\n",
            "Epoch [33/100], Step [300/610], Generator Loss: 6.7452, Discriminator Loss: 0.0592\n",
            "Epoch [33/100], Step [400/610], Generator Loss: 9.6128, Discriminator Loss: 0.0013\n",
            "Epoch [33/100], Step [500/610], Generator Loss: 10.3593, Discriminator Loss: 0.0044\n",
            "Epoch [33/100], Step [600/610], Generator Loss: 21.0266, Discriminator Loss: 0.0044\n"
          ]
        },
        {
          "name": "stderr",
          "output_type": "stream",
          "text": [
            "\r 33%|███▎      | 33/100 [24:18<49:16, 44.12s/it]"
          ]
        },
        {
          "name": "stdout",
          "output_type": "stream",
          "text": [
            "Epoch [34/100], Step [100/610], Generator Loss: 10.6839, Discriminator Loss: 0.0197\n",
            "Epoch [34/100], Step [200/610], Generator Loss: 8.3790, Discriminator Loss: 0.0421\n",
            "Epoch [34/100], Step [300/610], Generator Loss: 5.9476, Discriminator Loss: 0.0214\n",
            "Epoch [34/100], Step [400/610], Generator Loss: 9.1527, Discriminator Loss: 0.2303\n",
            "Epoch [34/100], Step [500/610], Generator Loss: 7.4454, Discriminator Loss: 0.0681\n",
            "Epoch [34/100], Step [600/610], Generator Loss: 10.6413, Discriminator Loss: 0.0196\n"
          ]
        },
        {
          "name": "stderr",
          "output_type": "stream",
          "text": [
            "\r 34%|███▍      | 34/100 [25:02<48:33, 44.14s/it]"
          ]
        },
        {
          "name": "stdout",
          "output_type": "stream",
          "text": [
            "Epoch [35/100], Step [100/610], Generator Loss: 13.1670, Discriminator Loss: 0.0502\n",
            "Epoch [35/100], Step [200/610], Generator Loss: 10.1569, Discriminator Loss: 0.0064\n",
            "Epoch [35/100], Step [300/610], Generator Loss: 15.7163, Discriminator Loss: 0.0021\n",
            "Epoch [35/100], Step [400/610], Generator Loss: 17.3852, Discriminator Loss: 0.0457\n",
            "Epoch [35/100], Step [500/610], Generator Loss: 18.5448, Discriminator Loss: 0.0053\n",
            "Epoch [35/100], Step [600/610], Generator Loss: 6.1884, Discriminator Loss: 0.0302\n"
          ]
        },
        {
          "name": "stderr",
          "output_type": "stream",
          "text": [
            "\r 35%|███▌      | 35/100 [25:46<47:46, 44.11s/it]"
          ]
        },
        {
          "name": "stdout",
          "output_type": "stream",
          "text": [
            "Epoch [36/100], Step [100/610], Generator Loss: 14.9932, Discriminator Loss: 0.0171\n",
            "Epoch [36/100], Step [200/610], Generator Loss: 13.4459, Discriminator Loss: 0.0345\n",
            "Epoch [36/100], Step [300/610], Generator Loss: 10.0146, Discriminator Loss: 0.0026\n",
            "Epoch [36/100], Step [400/610], Generator Loss: 14.2599, Discriminator Loss: 0.0247\n",
            "Epoch [36/100], Step [500/610], Generator Loss: 13.6021, Discriminator Loss: 0.0048\n",
            "Epoch [36/100], Step [600/610], Generator Loss: 10.5107, Discriminator Loss: 0.0013\n"
          ]
        },
        {
          "name": "stderr",
          "output_type": "stream",
          "text": [
            "\r 36%|███▌      | 36/100 [26:32<47:23, 44.44s/it]"
          ]
        },
        {
          "name": "stdout",
          "output_type": "stream",
          "text": [
            "Epoch [37/100], Step [100/610], Generator Loss: 10.2295, Discriminator Loss: 0.0005\n",
            "Epoch [37/100], Step [200/610], Generator Loss: 8.0331, Discriminator Loss: 0.0637\n",
            "Epoch [37/100], Step [300/610], Generator Loss: 9.3653, Discriminator Loss: 0.0605\n",
            "Epoch [37/100], Step [400/610], Generator Loss: 9.2138, Discriminator Loss: 0.0062\n",
            "Epoch [37/100], Step [500/610], Generator Loss: 12.6540, Discriminator Loss: 0.0100\n",
            "Epoch [37/100], Step [600/610], Generator Loss: 16.2602, Discriminator Loss: 0.0025\n"
          ]
        },
        {
          "name": "stderr",
          "output_type": "stream",
          "text": [
            "\r 37%|███▋      | 37/100 [27:15<46:21, 44.14s/it]"
          ]
        },
        {
          "name": "stdout",
          "output_type": "stream",
          "text": [
            "Epoch [38/100], Step [100/610], Generator Loss: 11.3391, Discriminator Loss: 0.0217\n",
            "Epoch [38/100], Step [200/610], Generator Loss: 11.8890, Discriminator Loss: 0.0037\n",
            "Epoch [38/100], Step [300/610], Generator Loss: 12.5049, Discriminator Loss: 0.0005\n",
            "Epoch [38/100], Step [400/610], Generator Loss: 11.1134, Discriminator Loss: 0.0026\n",
            "Epoch [38/100], Step [500/610], Generator Loss: 6.7641, Discriminator Loss: 0.0102\n",
            "Epoch [38/100], Step [600/610], Generator Loss: 7.9124, Discriminator Loss: 0.0156\n"
          ]
        },
        {
          "name": "stderr",
          "output_type": "stream",
          "text": [
            "\r 38%|███▊      | 38/100 [27:59<45:23, 43.92s/it]"
          ]
        },
        {
          "name": "stdout",
          "output_type": "stream",
          "text": [
            "Epoch [39/100], Step [100/610], Generator Loss: 7.0838, Discriminator Loss: 0.0330\n",
            "Epoch [39/100], Step [200/610], Generator Loss: 8.6320, Discriminator Loss: 0.0065\n",
            "Epoch [39/100], Step [300/610], Generator Loss: 11.9019, Discriminator Loss: 0.0846\n",
            "Epoch [39/100], Step [400/610], Generator Loss: 12.0360, Discriminator Loss: 0.0248\n",
            "Epoch [39/100], Step [500/610], Generator Loss: 10.9893, Discriminator Loss: 0.0401\n",
            "Epoch [39/100], Step [600/610], Generator Loss: 7.5753, Discriminator Loss: 0.0142\n"
          ]
        },
        {
          "name": "stderr",
          "output_type": "stream",
          "text": [
            "\r 39%|███▉      | 39/100 [28:42<44:33, 43.83s/it]"
          ]
        },
        {
          "name": "stdout",
          "output_type": "stream",
          "text": [
            "Epoch [40/100], Step [100/610], Generator Loss: 12.6026, Discriminator Loss: 0.0072\n",
            "Epoch [40/100], Step [200/610], Generator Loss: 8.5756, Discriminator Loss: 0.0032\n",
            "Epoch [40/100], Step [300/610], Generator Loss: 8.9504, Discriminator Loss: 0.0054\n",
            "Epoch [40/100], Step [400/610], Generator Loss: 8.0345, Discriminator Loss: 0.0021\n",
            "Epoch [40/100], Step [500/610], Generator Loss: 14.2538, Discriminator Loss: 0.0051\n",
            "Epoch [40/100], Step [600/610], Generator Loss: 10.9877, Discriminator Loss: 0.0013\n"
          ]
        },
        {
          "name": "stderr",
          "output_type": "stream",
          "text": [
            "\r 40%|████      | 40/100 [29:28<44:25, 44.43s/it]"
          ]
        },
        {
          "name": "stdout",
          "output_type": "stream",
          "text": [
            "Epoch [41/100], Step [100/610], Generator Loss: 8.9300, Discriminator Loss: 0.0014\n",
            "Epoch [41/100], Step [200/610], Generator Loss: 16.4221, Discriminator Loss: 0.0015\n",
            "Epoch [41/100], Step [300/610], Generator Loss: 12.2295, Discriminator Loss: 0.0019\n",
            "Epoch [41/100], Step [400/610], Generator Loss: 8.1093, Discriminator Loss: 0.0035\n",
            "Epoch [41/100], Step [500/610], Generator Loss: 9.5945, Discriminator Loss: 0.0017\n",
            "Epoch [41/100], Step [600/610], Generator Loss: 18.8090, Discriminator Loss: 0.2120\n"
          ]
        },
        {
          "name": "stderr",
          "output_type": "stream",
          "text": [
            "\r 41%|████      | 41/100 [30:11<43:23, 44.13s/it]"
          ]
        },
        {
          "name": "stdout",
          "output_type": "stream",
          "text": [
            "Epoch [42/100], Step [100/610], Generator Loss: 9.0345, Discriminator Loss: 0.0014\n",
            "Epoch [42/100], Step [200/610], Generator Loss: 13.0805, Discriminator Loss: 0.0165\n",
            "Epoch [42/100], Step [300/610], Generator Loss: 8.2490, Discriminator Loss: 0.0092\n",
            "Epoch [42/100], Step [400/610], Generator Loss: 13.5701, Discriminator Loss: 0.0039\n",
            "Epoch [42/100], Step [500/610], Generator Loss: 8.4079, Discriminator Loss: 0.0485\n",
            "Epoch [42/100], Step [600/610], Generator Loss: 14.2936, Discriminator Loss: 0.0069\n"
          ]
        },
        {
          "name": "stderr",
          "output_type": "stream",
          "text": [
            "\r 42%|████▏     | 42/100 [30:55<42:28, 43.94s/it]"
          ]
        },
        {
          "name": "stdout",
          "output_type": "stream",
          "text": [
            "Epoch [43/100], Step [100/610], Generator Loss: 10.6278, Discriminator Loss: 0.0327\n",
            "Epoch [43/100], Step [200/610], Generator Loss: 8.4942, Discriminator Loss: 0.0420\n",
            "Epoch [43/100], Step [300/610], Generator Loss: 8.6381, Discriminator Loss: 0.0045\n",
            "Epoch [43/100], Step [400/610], Generator Loss: 12.4723, Discriminator Loss: 0.0116\n",
            "Epoch [43/100], Step [500/610], Generator Loss: 13.2010, Discriminator Loss: 0.1209\n",
            "Epoch [43/100], Step [600/610], Generator Loss: 10.8140, Discriminator Loss: 0.0122\n"
          ]
        },
        {
          "name": "stderr",
          "output_type": "stream",
          "text": [
            "\r 43%|████▎     | 43/100 [31:39<41:53, 44.10s/it]"
          ]
        },
        {
          "name": "stdout",
          "output_type": "stream",
          "text": [
            "Epoch [44/100], Step [100/610], Generator Loss: 14.7284, Discriminator Loss: 0.0027\n",
            "Epoch [44/100], Step [200/610], Generator Loss: 8.7828, Discriminator Loss: 0.0145\n",
            "Epoch [44/100], Step [300/610], Generator Loss: 13.3564, Discriminator Loss: 0.0030\n",
            "Epoch [44/100], Step [400/610], Generator Loss: 4.9340, Discriminator Loss: 0.0839\n",
            "Epoch [44/100], Step [500/610], Generator Loss: 9.7047, Discriminator Loss: 0.0432\n",
            "Epoch [44/100], Step [600/610], Generator Loss: 6.3783, Discriminator Loss: 0.0382\n"
          ]
        },
        {
          "name": "stderr",
          "output_type": "stream",
          "text": [
            "\r 44%|████▍     | 44/100 [32:23<41:01, 43.95s/it]"
          ]
        },
        {
          "name": "stdout",
          "output_type": "stream",
          "text": [
            "Epoch [45/100], Step [100/610], Generator Loss: 7.4188, Discriminator Loss: 0.0110\n",
            "Epoch [45/100], Step [200/610], Generator Loss: 13.0724, Discriminator Loss: 0.0030\n",
            "Epoch [45/100], Step [300/610], Generator Loss: 10.2403, Discriminator Loss: 0.0045\n",
            "Epoch [45/100], Step [400/610], Generator Loss: 13.2729, Discriminator Loss: 0.0155\n",
            "Epoch [45/100], Step [500/610], Generator Loss: 8.4459, Discriminator Loss: 0.0028\n",
            "Epoch [45/100], Step [600/610], Generator Loss: 4.9129, Discriminator Loss: 0.1010\n"
          ]
        },
        {
          "name": "stderr",
          "output_type": "stream",
          "text": [
            "\r 45%|████▌     | 45/100 [33:07<40:19, 43.98s/it]"
          ]
        },
        {
          "name": "stdout",
          "output_type": "stream",
          "text": [
            "Epoch [46/100], Step [100/610], Generator Loss: 8.9187, Discriminator Loss: 0.0039\n",
            "Epoch [46/100], Step [200/610], Generator Loss: 18.3299, Discriminator Loss: 0.0761\n",
            "Epoch [46/100], Step [300/610], Generator Loss: 12.1493, Discriminator Loss: 0.0130\n",
            "Epoch [46/100], Step [400/610], Generator Loss: 10.8504, Discriminator Loss: 0.0196\n",
            "Epoch [46/100], Step [500/610], Generator Loss: 13.1033, Discriminator Loss: 0.0098\n",
            "Epoch [46/100], Step [600/610], Generator Loss: 20.1555, Discriminator Loss: 0.0016\n"
          ]
        },
        {
          "name": "stderr",
          "output_type": "stream",
          "text": [
            "\r 46%|████▌     | 46/100 [33:50<39:25, 43.80s/it]"
          ]
        },
        {
          "name": "stdout",
          "output_type": "stream",
          "text": [
            "Epoch [47/100], Step [100/610], Generator Loss: 15.4682, Discriminator Loss: 0.0247\n",
            "Epoch [47/100], Step [200/610], Generator Loss: 8.9606, Discriminator Loss: 0.0032\n",
            "Epoch [47/100], Step [300/610], Generator Loss: 10.7203, Discriminator Loss: 0.0079\n",
            "Epoch [47/100], Step [400/610], Generator Loss: 11.5492, Discriminator Loss: 0.0059\n",
            "Epoch [47/100], Step [500/610], Generator Loss: 17.0607, Discriminator Loss: 0.0062\n",
            "Epoch [47/100], Step [600/610], Generator Loss: 9.7741, Discriminator Loss: 0.0014\n"
          ]
        },
        {
          "name": "stderr",
          "output_type": "stream",
          "text": [
            "\r 47%|████▋     | 47/100 [34:35<38:55, 44.08s/it]"
          ]
        },
        {
          "name": "stdout",
          "output_type": "stream",
          "text": [
            "Epoch [48/100], Step [100/610], Generator Loss: 10.9026, Discriminator Loss: 0.0020\n",
            "Epoch [48/100], Step [200/610], Generator Loss: 11.1766, Discriminator Loss: 0.0004\n",
            "Epoch [48/100], Step [300/610], Generator Loss: 8.2297, Discriminator Loss: 0.0252\n",
            "Epoch [48/100], Step [400/610], Generator Loss: 17.4604, Discriminator Loss: 0.0055\n",
            "Epoch [48/100], Step [500/610], Generator Loss: 7.6185, Discriminator Loss: 0.0338\n",
            "Epoch [48/100], Step [600/610], Generator Loss: 13.7412, Discriminator Loss: 0.0064\n"
          ]
        },
        {
          "name": "stderr",
          "output_type": "stream",
          "text": [
            "\r 48%|████▊     | 48/100 [35:18<37:59, 43.84s/it]"
          ]
        },
        {
          "name": "stdout",
          "output_type": "stream",
          "text": [
            "Epoch [49/100], Step [100/610], Generator Loss: 7.6098, Discriminator Loss: 0.0084\n",
            "Epoch [49/100], Step [200/610], Generator Loss: 13.5976, Discriminator Loss: 0.0109\n",
            "Epoch [49/100], Step [300/610], Generator Loss: 8.5137, Discriminator Loss: 0.0503\n",
            "Epoch [49/100], Step [400/610], Generator Loss: 15.5830, Discriminator Loss: 0.0060\n",
            "Epoch [49/100], Step [500/610], Generator Loss: 6.8172, Discriminator Loss: 0.1598\n",
            "Epoch [49/100], Step [600/610], Generator Loss: 9.7679, Discriminator Loss: 0.0234\n"
          ]
        },
        {
          "name": "stderr",
          "output_type": "stream",
          "text": [
            "\r 49%|████▉     | 49/100 [36:02<37:08, 43.69s/it]"
          ]
        },
        {
          "name": "stdout",
          "output_type": "stream",
          "text": [
            "Epoch [50/100], Step [100/610], Generator Loss: 7.6965, Discriminator Loss: 0.0600\n",
            "Epoch [50/100], Step [200/610], Generator Loss: 14.7151, Discriminator Loss: 0.0181\n",
            "Epoch [50/100], Step [300/610], Generator Loss: 10.5106, Discriminator Loss: 0.0247\n",
            "Epoch [50/100], Step [400/610], Generator Loss: 11.6263, Discriminator Loss: 0.0046\n",
            "Epoch [50/100], Step [500/610], Generator Loss: 9.0636, Discriminator Loss: 0.0074\n",
            "Epoch [50/100], Step [600/610], Generator Loss: 12.2003, Discriminator Loss: 0.0076\n"
          ]
        },
        {
          "name": "stderr",
          "output_type": "stream",
          "text": [
            "\r 50%|█████     | 50/100 [36:47<36:42, 44.05s/it]"
          ]
        },
        {
          "name": "stdout",
          "output_type": "stream",
          "text": [
            "Epoch [51/100], Step [100/610], Generator Loss: 4.3214, Discriminator Loss: 0.1179\n",
            "Epoch [51/100], Step [200/610], Generator Loss: 11.9462, Discriminator Loss: 0.0276\n",
            "Epoch [51/100], Step [300/610], Generator Loss: 12.0446, Discriminator Loss: 0.0039\n",
            "Epoch [51/100], Step [400/610], Generator Loss: 6.0679, Discriminator Loss: 0.0283\n",
            "Epoch [51/100], Step [500/610], Generator Loss: 11.2581, Discriminator Loss: 0.0165\n",
            "Epoch [51/100], Step [600/610], Generator Loss: 13.9478, Discriminator Loss: 0.0063\n"
          ]
        },
        {
          "name": "stderr",
          "output_type": "stream",
          "text": [
            "\r 51%|█████     | 51/100 [37:31<35:56, 44.01s/it]"
          ]
        },
        {
          "name": "stdout",
          "output_type": "stream",
          "text": [
            "Epoch [52/100], Step [100/610], Generator Loss: 7.1938, Discriminator Loss: 0.0412\n",
            "Epoch [52/100], Step [200/610], Generator Loss: 8.4779, Discriminator Loss: 0.0492\n",
            "Epoch [52/100], Step [300/610], Generator Loss: 10.3733, Discriminator Loss: 0.0037\n",
            "Epoch [52/100], Step [400/610], Generator Loss: 22.1996, Discriminator Loss: 0.0022\n",
            "Epoch [52/100], Step [500/610], Generator Loss: 8.8540, Discriminator Loss: 0.3151\n",
            "Epoch [52/100], Step [600/610], Generator Loss: 8.8338, Discriminator Loss: 0.0067\n"
          ]
        },
        {
          "name": "stderr",
          "output_type": "stream",
          "text": [
            "\r 52%|█████▏    | 52/100 [38:14<35:03, 43.81s/it]"
          ]
        },
        {
          "name": "stdout",
          "output_type": "stream",
          "text": [
            "Epoch [53/100], Step [100/610], Generator Loss: 19.8963, Discriminator Loss: 0.1594\n",
            "Epoch [53/100], Step [200/610], Generator Loss: 9.1873, Discriminator Loss: 0.0030\n",
            "Epoch [53/100], Step [300/610], Generator Loss: 7.7561, Discriminator Loss: 0.0068\n",
            "Epoch [53/100], Step [400/610], Generator Loss: 9.8589, Discriminator Loss: 0.0086\n",
            "Epoch [53/100], Step [500/610], Generator Loss: 13.3237, Discriminator Loss: 0.0032\n",
            "Epoch [53/100], Step [600/610], Generator Loss: 8.7511, Discriminator Loss: 0.0057\n"
          ]
        },
        {
          "name": "stderr",
          "output_type": "stream",
          "text": [
            "\r 53%|█████▎    | 53/100 [38:57<34:11, 43.66s/it]"
          ]
        },
        {
          "name": "stdout",
          "output_type": "stream",
          "text": [
            "Epoch [54/100], Step [100/610], Generator Loss: 9.5069, Discriminator Loss: 0.0073\n",
            "Epoch [54/100], Step [200/610], Generator Loss: 8.5772, Discriminator Loss: 0.0027\n",
            "Epoch [54/100], Step [300/610], Generator Loss: 16.6027, Discriminator Loss: 0.0003\n",
            "Epoch [54/100], Step [400/610], Generator Loss: 9.4883, Discriminator Loss: 0.0030\n",
            "Epoch [54/100], Step [500/610], Generator Loss: 6.6809, Discriminator Loss: 0.0376\n",
            "Epoch [54/100], Step [600/610], Generator Loss: 10.0233, Discriminator Loss: 0.0164\n"
          ]
        },
        {
          "name": "stderr",
          "output_type": "stream",
          "text": [
            "\r 54%|█████▍    | 54/100 [39:42<33:41, 43.93s/it]"
          ]
        },
        {
          "name": "stdout",
          "output_type": "stream",
          "text": [
            "Epoch [55/100], Step [100/610], Generator Loss: 14.2518, Discriminator Loss: 0.0057\n",
            "Epoch [55/100], Step [200/610], Generator Loss: 8.9548, Discriminator Loss: 0.0294\n",
            "Epoch [55/100], Step [300/610], Generator Loss: 8.3774, Discriminator Loss: 0.1059\n",
            "Epoch [55/100], Step [400/610], Generator Loss: 10.4153, Discriminator Loss: 0.0139\n",
            "Epoch [55/100], Step [500/610], Generator Loss: 8.6713, Discriminator Loss: 0.0126\n",
            "Epoch [55/100], Step [600/610], Generator Loss: 10.8993, Discriminator Loss: 0.0153\n"
          ]
        },
        {
          "name": "stderr",
          "output_type": "stream",
          "text": [
            "\r 55%|█████▌    | 55/100 [40:25<32:51, 43.81s/it]"
          ]
        },
        {
          "name": "stdout",
          "output_type": "stream",
          "text": [
            "Epoch [56/100], Step [100/610], Generator Loss: 11.5203, Discriminator Loss: 0.0074\n",
            "Epoch [56/100], Step [200/610], Generator Loss: 8.6500, Discriminator Loss: 0.0143\n",
            "Epoch [56/100], Step [300/610], Generator Loss: 11.1710, Discriminator Loss: 0.0005\n",
            "Epoch [56/100], Step [400/610], Generator Loss: 6.8800, Discriminator Loss: 0.0087\n",
            "Epoch [56/100], Step [500/610], Generator Loss: 14.6122, Discriminator Loss: 0.0052\n",
            "Epoch [56/100], Step [600/610], Generator Loss: 11.9701, Discriminator Loss: 0.0018\n"
          ]
        },
        {
          "name": "stderr",
          "output_type": "stream",
          "text": [
            "\r 56%|█████▌    | 56/100 [41:10<32:13, 43.93s/it]"
          ]
        },
        {
          "name": "stdout",
          "output_type": "stream",
          "text": [
            "Epoch [57/100], Step [100/610], Generator Loss: 19.8254, Discriminator Loss: 0.4506\n",
            "Epoch [57/100], Step [200/610], Generator Loss: 8.4357, Discriminator Loss: 0.0082\n",
            "Epoch [57/100], Step [300/610], Generator Loss: 9.6060, Discriminator Loss: 0.0072\n",
            "Epoch [57/100], Step [400/610], Generator Loss: 8.8223, Discriminator Loss: 0.0075\n",
            "Epoch [57/100], Step [500/610], Generator Loss: 7.5702, Discriminator Loss: 0.0090\n",
            "Epoch [57/100], Step [600/610], Generator Loss: 7.8283, Discriminator Loss: 0.0047\n"
          ]
        },
        {
          "name": "stderr",
          "output_type": "stream",
          "text": [
            "\r 57%|█████▋    | 57/100 [41:54<31:40, 44.20s/it]"
          ]
        },
        {
          "name": "stdout",
          "output_type": "stream",
          "text": [
            "Epoch [58/100], Step [100/610], Generator Loss: 7.6784, Discriminator Loss: 0.0221\n",
            "Epoch [58/100], Step [200/610], Generator Loss: 11.5870, Discriminator Loss: 0.1391\n",
            "Epoch [58/100], Step [300/610], Generator Loss: 13.4630, Discriminator Loss: 0.0142\n",
            "Epoch [58/100], Step [400/610], Generator Loss: 12.5716, Discriminator Loss: 0.0128\n",
            "Epoch [58/100], Step [500/610], Generator Loss: 8.1268, Discriminator Loss: 0.0048\n",
            "Epoch [58/100], Step [600/610], Generator Loss: 9.2462, Discriminator Loss: 0.0029\n"
          ]
        },
        {
          "name": "stderr",
          "output_type": "stream",
          "text": [
            "\r 58%|█████▊    | 58/100 [42:37<30:42, 43.87s/it]"
          ]
        },
        {
          "name": "stdout",
          "output_type": "stream",
          "text": [
            "Epoch [59/100], Step [100/610], Generator Loss: 10.1907, Discriminator Loss: 0.0034\n",
            "Epoch [59/100], Step [200/610], Generator Loss: 8.1322, Discriminator Loss: 0.0212\n",
            "Epoch [59/100], Step [300/610], Generator Loss: 10.8665, Discriminator Loss: 0.0106\n",
            "Epoch [59/100], Step [400/610], Generator Loss: 9.8278, Discriminator Loss: 0.0010\n",
            "Epoch [59/100], Step [500/610], Generator Loss: 15.5869, Discriminator Loss: 0.0050\n",
            "Epoch [59/100], Step [600/610], Generator Loss: 13.8858, Discriminator Loss: 0.0006\n"
          ]
        },
        {
          "name": "stderr",
          "output_type": "stream",
          "text": [
            "\r 59%|█████▉    | 59/100 [43:20<29:47, 43.60s/it]"
          ]
        },
        {
          "name": "stdout",
          "output_type": "stream",
          "text": [
            "Epoch [60/100], Step [100/610], Generator Loss: 12.3790, Discriminator Loss: 0.0019\n",
            "Epoch [60/100], Step [200/610], Generator Loss: 8.3515, Discriminator Loss: 0.0031\n",
            "Epoch [60/100], Step [300/610], Generator Loss: 10.7028, Discriminator Loss: 0.0016\n",
            "Epoch [60/100], Step [400/610], Generator Loss: 12.3620, Discriminator Loss: 0.0027\n",
            "Epoch [60/100], Step [500/610], Generator Loss: 18.8025, Discriminator Loss: 0.0019\n",
            "Epoch [60/100], Step [600/610], Generator Loss: 11.5019, Discriminator Loss: 0.0034\n"
          ]
        },
        {
          "name": "stderr",
          "output_type": "stream",
          "text": [
            "\r 60%|██████    | 60/100 [44:04<29:00, 43.51s/it]"
          ]
        },
        {
          "name": "stdout",
          "output_type": "stream",
          "text": [
            "Epoch [61/100], Step [100/610], Generator Loss: 11.2751, Discriminator Loss: 0.0494\n",
            "Epoch [61/100], Step [200/610], Generator Loss: 12.7839, Discriminator Loss: 0.0043\n",
            "Epoch [61/100], Step [300/610], Generator Loss: 7.5553, Discriminator Loss: 0.0046\n",
            "Epoch [61/100], Step [400/610], Generator Loss: 8.5572, Discriminator Loss: 0.0361\n",
            "Epoch [61/100], Step [500/610], Generator Loss: 7.2037, Discriminator Loss: 0.0091\n",
            "Epoch [61/100], Step [600/610], Generator Loss: 15.7309, Discriminator Loss: 0.0095\n"
          ]
        },
        {
          "name": "stderr",
          "output_type": "stream",
          "text": [
            "\r 61%|██████    | 61/100 [44:49<28:39, 44.09s/it]"
          ]
        },
        {
          "name": "stdout",
          "output_type": "stream",
          "text": [
            "Epoch [62/100], Step [100/610], Generator Loss: 11.7967, Discriminator Loss: 0.3794\n",
            "Epoch [62/100], Step [200/610], Generator Loss: 12.9068, Discriminator Loss: 0.0250\n",
            "Epoch [62/100], Step [300/610], Generator Loss: 9.6999, Discriminator Loss: 0.0036\n",
            "Epoch [62/100], Step [400/610], Generator Loss: 7.2496, Discriminator Loss: 0.0267\n",
            "Epoch [62/100], Step [500/610], Generator Loss: 15.8765, Discriminator Loss: 0.0199\n",
            "Epoch [62/100], Step [600/610], Generator Loss: 12.6801, Discriminator Loss: 0.0048\n"
          ]
        },
        {
          "name": "stderr",
          "output_type": "stream",
          "text": [
            "\r 62%|██████▏   | 62/100 [45:32<27:46, 43.85s/it]"
          ]
        },
        {
          "name": "stdout",
          "output_type": "stream",
          "text": [
            "Epoch [63/100], Step [100/610], Generator Loss: 12.8927, Discriminator Loss: 0.0103\n",
            "Epoch [63/100], Step [200/610], Generator Loss: 12.1869, Discriminator Loss: 0.0056\n",
            "Epoch [63/100], Step [300/610], Generator Loss: 5.7265, Discriminator Loss: 0.0634\n",
            "Epoch [63/100], Step [400/610], Generator Loss: 6.1621, Discriminator Loss: 0.0193\n",
            "Epoch [63/100], Step [500/610], Generator Loss: 11.5544, Discriminator Loss: 0.0096\n",
            "Epoch [63/100], Step [600/610], Generator Loss: 12.8197, Discriminator Loss: 0.0082\n"
          ]
        },
        {
          "name": "stderr",
          "output_type": "stream",
          "text": [
            "\r 63%|██████▎   | 63/100 [46:16<26:56, 43.69s/it]"
          ]
        },
        {
          "name": "stdout",
          "output_type": "stream",
          "text": [
            "Epoch [64/100], Step [100/610], Generator Loss: 10.1320, Discriminator Loss: 0.0187\n",
            "Epoch [64/100], Step [200/610], Generator Loss: 7.3887, Discriminator Loss: 0.0128\n",
            "Epoch [64/100], Step [300/610], Generator Loss: 11.0127, Discriminator Loss: 0.0044\n",
            "Epoch [64/100], Step [400/610], Generator Loss: 9.4440, Discriminator Loss: 0.0047\n",
            "Epoch [64/100], Step [500/610], Generator Loss: 14.1180, Discriminator Loss: 0.0008\n",
            "Epoch [64/100], Step [600/610], Generator Loss: 8.9474, Discriminator Loss: 0.0054\n"
          ]
        },
        {
          "name": "stderr",
          "output_type": "stream",
          "text": [
            "\r 64%|██████▍   | 64/100 [46:59<26:09, 43.59s/it]"
          ]
        },
        {
          "name": "stdout",
          "output_type": "stream",
          "text": [
            "Epoch [65/100], Step [100/610], Generator Loss: 13.6485, Discriminator Loss: 0.0018\n",
            "Epoch [65/100], Step [200/610], Generator Loss: 13.3275, Discriminator Loss: 0.0023\n",
            "Epoch [65/100], Step [300/610], Generator Loss: 7.3105, Discriminator Loss: 0.0034\n",
            "Epoch [65/100], Step [400/610], Generator Loss: 9.4851, Discriminator Loss: 0.0213\n",
            "Epoch [65/100], Step [500/610], Generator Loss: 6.1766, Discriminator Loss: 0.0098\n",
            "Epoch [65/100], Step [600/610], Generator Loss: 8.6092, Discriminator Loss: 0.0027\n"
          ]
        },
        {
          "name": "stderr",
          "output_type": "stream",
          "text": [
            "\r 65%|██████▌   | 65/100 [47:44<25:36, 43.89s/it]"
          ]
        },
        {
          "name": "stdout",
          "output_type": "stream",
          "text": [
            "Epoch [66/100], Step [100/610], Generator Loss: 7.5877, Discriminator Loss: 0.0757\n",
            "Epoch [66/100], Step [200/610], Generator Loss: 9.4620, Discriminator Loss: 0.0025\n",
            "Epoch [66/100], Step [300/610], Generator Loss: 10.5789, Discriminator Loss: 0.0067\n",
            "Epoch [66/100], Step [400/610], Generator Loss: 12.4197, Discriminator Loss: 0.1577\n",
            "Epoch [66/100], Step [500/610], Generator Loss: 14.1234, Discriminator Loss: 0.0021\n",
            "Epoch [66/100], Step [600/610], Generator Loss: 7.6621, Discriminator Loss: 0.0137\n"
          ]
        },
        {
          "name": "stderr",
          "output_type": "stream",
          "text": [
            "\r 66%|██████▌   | 66/100 [48:27<24:46, 43.72s/it]"
          ]
        },
        {
          "name": "stdout",
          "output_type": "stream",
          "text": [
            "Epoch [67/100], Step [100/610], Generator Loss: 21.4137, Discriminator Loss: 0.0359\n",
            "Epoch [67/100], Step [200/610], Generator Loss: 11.1307, Discriminator Loss: 0.0374\n",
            "Epoch [67/100], Step [300/610], Generator Loss: 10.9110, Discriminator Loss: 0.0030\n",
            "Epoch [67/100], Step [400/610], Generator Loss: 18.1472, Discriminator Loss: 0.0052\n",
            "Epoch [67/100], Step [500/610], Generator Loss: 10.5802, Discriminator Loss: 0.0008\n",
            "Epoch [67/100], Step [600/610], Generator Loss: 8.5897, Discriminator Loss: 0.0183\n"
          ]
        },
        {
          "name": "stderr",
          "output_type": "stream",
          "text": [
            "\r 67%|██████▋   | 67/100 [49:11<24:05, 43.82s/it]"
          ]
        },
        {
          "name": "stdout",
          "output_type": "stream",
          "text": [
            "Epoch [68/100], Step [100/610], Generator Loss: 12.1728, Discriminator Loss: 0.0142\n",
            "Epoch [68/100], Step [200/610], Generator Loss: 9.9645, Discriminator Loss: 0.0193\n",
            "Epoch [68/100], Step [300/610], Generator Loss: 14.1310, Discriminator Loss: 0.0090\n",
            "Epoch [68/100], Step [400/610], Generator Loss: 7.9755, Discriminator Loss: 0.0039\n",
            "Epoch [68/100], Step [500/610], Generator Loss: 12.1224, Discriminator Loss: 0.0465\n",
            "Epoch [68/100], Step [600/610], Generator Loss: 9.0686, Discriminator Loss: 0.0012\n"
          ]
        },
        {
          "name": "stderr",
          "output_type": "stream",
          "text": [
            "\r 68%|██████▊   | 68/100 [49:55<23:27, 43.98s/it]"
          ]
        },
        {
          "name": "stdout",
          "output_type": "stream",
          "text": [
            "Epoch [69/100], Step [100/610], Generator Loss: 14.8581, Discriminator Loss: 0.0015\n",
            "Epoch [69/100], Step [200/610], Generator Loss: 15.6770, Discriminator Loss: 0.0075\n",
            "Epoch [69/100], Step [300/610], Generator Loss: 8.0359, Discriminator Loss: 0.0057\n",
            "Epoch [69/100], Step [400/610], Generator Loss: 12.0469, Discriminator Loss: 0.0202\n",
            "Epoch [69/100], Step [500/610], Generator Loss: 13.1826, Discriminator Loss: 0.0064\n",
            "Epoch [69/100], Step [600/610], Generator Loss: 8.7884, Discriminator Loss: 0.0103\n"
          ]
        },
        {
          "name": "stderr",
          "output_type": "stream",
          "text": [
            "\r 69%|██████▉   | 69/100 [50:39<22:35, 43.73s/it]"
          ]
        },
        {
          "name": "stdout",
          "output_type": "stream",
          "text": [
            "Epoch [70/100], Step [100/610], Generator Loss: 8.3083, Discriminator Loss: 0.0673\n",
            "Epoch [70/100], Step [200/610], Generator Loss: 13.9339, Discriminator Loss: 0.0024\n",
            "Epoch [70/100], Step [300/610], Generator Loss: 7.6489, Discriminator Loss: 0.0086\n",
            "Epoch [70/100], Step [400/610], Generator Loss: 12.2986, Discriminator Loss: 0.0110\n",
            "Epoch [70/100], Step [500/610], Generator Loss: 5.8683, Discriminator Loss: 0.0268\n",
            "Epoch [70/100], Step [600/610], Generator Loss: 14.6793, Discriminator Loss: 0.0040\n"
          ]
        },
        {
          "name": "stderr",
          "output_type": "stream",
          "text": [
            "\r 70%|███████   | 70/100 [51:22<21:47, 43.60s/it]"
          ]
        },
        {
          "name": "stdout",
          "output_type": "stream",
          "text": [
            "Epoch [71/100], Step [100/610], Generator Loss: 8.5418, Discriminator Loss: 0.0022\n",
            "Epoch [71/100], Step [200/610], Generator Loss: 9.6609, Discriminator Loss: 0.0065\n",
            "Epoch [71/100], Step [300/610], Generator Loss: 13.2965, Discriminator Loss: 0.0031\n",
            "Epoch [71/100], Step [400/610], Generator Loss: 10.0674, Discriminator Loss: 0.0030\n",
            "Epoch [71/100], Step [500/610], Generator Loss: 11.5072, Discriminator Loss: 0.0006\n",
            "Epoch [71/100], Step [600/610], Generator Loss: 10.2571, Discriminator Loss: 0.0020\n"
          ]
        },
        {
          "name": "stderr",
          "output_type": "stream",
          "text": [
            "\r 71%|███████   | 71/100 [52:05<21:01, 43.49s/it]"
          ]
        },
        {
          "name": "stdout",
          "output_type": "stream",
          "text": [
            "Epoch [72/100], Step [100/610], Generator Loss: 10.0359, Discriminator Loss: 0.0177\n",
            "Epoch [72/100], Step [200/610], Generator Loss: 7.8478, Discriminator Loss: 0.0031\n",
            "Epoch [72/100], Step [300/610], Generator Loss: 9.4042, Discriminator Loss: 0.0625\n",
            "Epoch [72/100], Step [400/610], Generator Loss: 9.5531, Discriminator Loss: 0.0064\n",
            "Epoch [72/100], Step [500/610], Generator Loss: 14.7809, Discriminator Loss: 0.0042\n",
            "Epoch [72/100], Step [600/610], Generator Loss: 7.4436, Discriminator Loss: 0.0227\n"
          ]
        },
        {
          "name": "stderr",
          "output_type": "stream",
          "text": [
            "\r 72%|███████▏  | 72/100 [52:51<20:35, 44.13s/it]"
          ]
        },
        {
          "name": "stdout",
          "output_type": "stream",
          "text": [
            "Epoch [73/100], Step [100/610], Generator Loss: 9.2683, Discriminator Loss: 0.0031\n",
            "Epoch [73/100], Step [200/610], Generator Loss: 8.6689, Discriminator Loss: 0.0042\n",
            "Epoch [73/100], Step [300/610], Generator Loss: 14.2767, Discriminator Loss: 0.0195\n",
            "Epoch [73/100], Step [400/610], Generator Loss: 9.6768, Discriminator Loss: 0.0437\n",
            "Epoch [73/100], Step [500/610], Generator Loss: 12.1738, Discriminator Loss: 0.0068\n",
            "Epoch [73/100], Step [600/610], Generator Loss: 6.6889, Discriminator Loss: 0.0405\n"
          ]
        },
        {
          "name": "stderr",
          "output_type": "stream",
          "text": [
            "\r 73%|███████▎  | 73/100 [53:34<19:44, 43.87s/it]"
          ]
        },
        {
          "name": "stdout",
          "output_type": "stream",
          "text": [
            "Epoch [74/100], Step [100/610], Generator Loss: 12.5020, Discriminator Loss: 0.0099\n",
            "Epoch [74/100], Step [200/610], Generator Loss: 13.4800, Discriminator Loss: 0.0053\n",
            "Epoch [74/100], Step [300/610], Generator Loss: 20.5998, Discriminator Loss: 0.0019\n",
            "Epoch [74/100], Step [400/610], Generator Loss: 15.8897, Discriminator Loss: 0.0437\n",
            "Epoch [74/100], Step [500/610], Generator Loss: 8.8082, Discriminator Loss: 0.0052\n",
            "Epoch [74/100], Step [600/610], Generator Loss: 14.3840, Discriminator Loss: 0.0015\n"
          ]
        },
        {
          "name": "stderr",
          "output_type": "stream",
          "text": [
            "\r 74%|███████▍  | 74/100 [54:17<18:55, 43.68s/it]"
          ]
        },
        {
          "name": "stdout",
          "output_type": "stream",
          "text": [
            "Epoch [75/100], Step [100/610], Generator Loss: 12.1465, Discriminator Loss: 0.0066\n",
            "Epoch [75/100], Step [200/610], Generator Loss: 9.4183, Discriminator Loss: 0.0027\n",
            "Epoch [75/100], Step [300/610], Generator Loss: 10.9644, Discriminator Loss: 0.0034\n",
            "Epoch [75/100], Step [400/610], Generator Loss: 6.6233, Discriminator Loss: 0.3115\n",
            "Epoch [75/100], Step [500/610], Generator Loss: 14.0456, Discriminator Loss: 0.1098\n",
            "Epoch [75/100], Step [600/610], Generator Loss: 13.9250, Discriminator Loss: 0.0120\n"
          ]
        },
        {
          "name": "stderr",
          "output_type": "stream",
          "text": [
            "\r 75%|███████▌  | 75/100 [55:01<18:09, 43.56s/it]"
          ]
        },
        {
          "name": "stdout",
          "output_type": "stream",
          "text": [
            "Epoch [76/100], Step [100/610], Generator Loss: 7.5675, Discriminator Loss: 0.0033\n",
            "Epoch [76/100], Step [200/610], Generator Loss: 9.2477, Discriminator Loss: 0.0215\n",
            "Epoch [76/100], Step [300/610], Generator Loss: 12.7138, Discriminator Loss: 0.0035\n",
            "Epoch [76/100], Step [400/610], Generator Loss: 9.4741, Discriminator Loss: 0.0005\n",
            "Epoch [76/100], Step [500/610], Generator Loss: 8.0980, Discriminator Loss: 0.0679\n",
            "Epoch [76/100], Step [600/610], Generator Loss: 2.8441, Discriminator Loss: 6.2536\n"
          ]
        },
        {
          "name": "stderr",
          "output_type": "stream",
          "text": [
            "\r 76%|███████▌  | 76/100 [55:45<17:32, 43.84s/it]"
          ]
        },
        {
          "name": "stdout",
          "output_type": "stream",
          "text": [
            "Epoch [77/100], Step [100/610], Generator Loss: 8.1941, Discriminator Loss: 0.0220\n",
            "Epoch [77/100], Step [200/610], Generator Loss: 8.1284, Discriminator Loss: 0.0159\n",
            "Epoch [77/100], Step [300/610], Generator Loss: 10.8105, Discriminator Loss: 0.0052\n",
            "Epoch [77/100], Step [400/610], Generator Loss: 9.3216, Discriminator Loss: 0.0183\n",
            "Epoch [77/100], Step [500/610], Generator Loss: 9.1256, Discriminator Loss: 0.0156\n",
            "Epoch [77/100], Step [600/610], Generator Loss: 8.9305, Discriminator Loss: 0.0130\n"
          ]
        },
        {
          "name": "stderr",
          "output_type": "stream",
          "text": [
            "\r 77%|███████▋  | 77/100 [56:29<16:49, 43.88s/it]"
          ]
        },
        {
          "name": "stdout",
          "output_type": "stream",
          "text": [
            "Epoch [78/100], Step [100/610], Generator Loss: 8.2092, Discriminator Loss: 0.0056\n",
            "Epoch [78/100], Step [200/610], Generator Loss: 13.6671, Discriminator Loss: 0.0398\n",
            "Epoch [78/100], Step [300/610], Generator Loss: 15.1560, Discriminator Loss: 0.0203\n",
            "Epoch [78/100], Step [400/610], Generator Loss: 8.1042, Discriminator Loss: 0.0120\n",
            "Epoch [78/100], Step [500/610], Generator Loss: 9.3138, Discriminator Loss: 0.0063\n",
            "Epoch [78/100], Step [600/610], Generator Loss: 17.5869, Discriminator Loss: 0.0284\n"
          ]
        },
        {
          "name": "stderr",
          "output_type": "stream",
          "text": [
            "\r 78%|███████▊  | 78/100 [57:13<16:03, 43.80s/it]"
          ]
        },
        {
          "name": "stdout",
          "output_type": "stream",
          "text": [
            "Epoch [79/100], Step [100/610], Generator Loss: 12.9226, Discriminator Loss: 0.0016\n",
            "Epoch [79/100], Step [200/610], Generator Loss: 12.0418, Discriminator Loss: 0.0015\n",
            "Epoch [79/100], Step [300/610], Generator Loss: 13.5378, Discriminator Loss: 0.0087\n",
            "Epoch [79/100], Step [400/610], Generator Loss: 11.8624, Discriminator Loss: 0.0045\n",
            "Epoch [79/100], Step [500/610], Generator Loss: 19.3335, Discriminator Loss: 0.0074\n",
            "Epoch [79/100], Step [600/610], Generator Loss: 12.2426, Discriminator Loss: 0.0284\n"
          ]
        },
        {
          "name": "stderr",
          "output_type": "stream",
          "text": [
            "\r 79%|███████▉  | 79/100 [57:57<15:24, 44.01s/it]"
          ]
        },
        {
          "name": "stdout",
          "output_type": "stream",
          "text": [
            "Epoch [80/100], Step [100/610], Generator Loss: 11.8726, Discriminator Loss: 0.1029\n",
            "Epoch [80/100], Step [200/610], Generator Loss: 9.1538, Discriminator Loss: 0.0061\n",
            "Epoch [80/100], Step [300/610], Generator Loss: 11.8601, Discriminator Loss: 0.0268\n",
            "Epoch [80/100], Step [400/610], Generator Loss: 15.1598, Discriminator Loss: 0.0325\n",
            "Epoch [80/100], Step [500/610], Generator Loss: 14.0881, Discriminator Loss: 0.0018\n",
            "Epoch [80/100], Step [600/610], Generator Loss: 8.9107, Discriminator Loss: 0.0049\n"
          ]
        },
        {
          "name": "stderr",
          "output_type": "stream",
          "text": [
            "\r 80%|████████  | 80/100 [58:40<14:35, 43.79s/it]"
          ]
        },
        {
          "name": "stdout",
          "output_type": "stream",
          "text": [
            "Epoch [81/100], Step [100/610], Generator Loss: 11.4188, Discriminator Loss: 0.0368\n",
            "Epoch [81/100], Step [200/610], Generator Loss: 11.3007, Discriminator Loss: 0.0107\n",
            "Epoch [81/100], Step [300/610], Generator Loss: 6.9828, Discriminator Loss: 0.0205\n",
            "Epoch [81/100], Step [400/610], Generator Loss: 9.5327, Discriminator Loss: 0.0015\n",
            "Epoch [81/100], Step [500/610], Generator Loss: 11.8700, Discriminator Loss: 0.0201\n",
            "Epoch [81/100], Step [600/610], Generator Loss: 10.2951, Discriminator Loss: 0.0011\n"
          ]
        },
        {
          "name": "stderr",
          "output_type": "stream",
          "text": [
            "\r 81%|████████  | 81/100 [59:24<13:48, 43.60s/it]"
          ]
        },
        {
          "name": "stdout",
          "output_type": "stream",
          "text": [
            "Epoch [82/100], Step [100/610], Generator Loss: 12.1342, Discriminator Loss: 0.0014\n",
            "Epoch [82/100], Step [200/610], Generator Loss: 14.3505, Discriminator Loss: 0.0028\n",
            "Epoch [82/100], Step [300/610], Generator Loss: 13.8910, Discriminator Loss: 0.1830\n",
            "Epoch [82/100], Step [400/610], Generator Loss: 7.4324, Discriminator Loss: 0.0489\n",
            "Epoch [82/100], Step [500/610], Generator Loss: 13.6184, Discriminator Loss: 0.0014\n",
            "Epoch [82/100], Step [600/610], Generator Loss: 7.6272, Discriminator Loss: 0.0305\n"
          ]
        },
        {
          "name": "stderr",
          "output_type": "stream",
          "text": [
            "\r 82%|████████▏ | 82/100 [1:00:07<13:04, 43.61s/it]"
          ]
        },
        {
          "name": "stdout",
          "output_type": "stream",
          "text": [
            "Epoch [83/100], Step [100/610], Generator Loss: 7.9540, Discriminator Loss: 0.0098\n",
            "Epoch [83/100], Step [200/610], Generator Loss: 11.9686, Discriminator Loss: 0.0028\n",
            "Epoch [83/100], Step [300/610], Generator Loss: 10.7584, Discriminator Loss: 0.0046\n",
            "Epoch [83/100], Step [400/610], Generator Loss: 13.2411, Discriminator Loss: 0.0046\n",
            "Epoch [83/100], Step [500/610], Generator Loss: 12.3414, Discriminator Loss: 0.0038\n",
            "Epoch [83/100], Step [600/610], Generator Loss: 10.4434, Discriminator Loss: 0.0085\n"
          ]
        },
        {
          "name": "stderr",
          "output_type": "stream",
          "text": [
            "\r 83%|████████▎ | 83/100 [1:00:53<12:31, 44.18s/it]"
          ]
        },
        {
          "name": "stdout",
          "output_type": "stream",
          "text": [
            "Epoch [84/100], Step [100/610], Generator Loss: 16.2413, Discriminator Loss: 0.0113\n",
            "Epoch [84/100], Step [200/610], Generator Loss: 9.7906, Discriminator Loss: 0.0019\n",
            "Epoch [84/100], Step [300/610], Generator Loss: 13.9444, Discriminator Loss: 0.0009\n",
            "Epoch [84/100], Step [400/610], Generator Loss: 8.0770, Discriminator Loss: 0.0075\n",
            "Epoch [84/100], Step [500/610], Generator Loss: 14.7750, Discriminator Loss: 0.0152\n",
            "Epoch [84/100], Step [600/610], Generator Loss: 11.7001, Discriminator Loss: 0.0005\n"
          ]
        },
        {
          "name": "stderr",
          "output_type": "stream",
          "text": [
            "\r 84%|████████▍ | 84/100 [1:01:36<11:43, 43.96s/it]"
          ]
        },
        {
          "name": "stdout",
          "output_type": "stream",
          "text": [
            "Epoch [85/100], Step [100/610], Generator Loss: 14.5171, Discriminator Loss: 0.0133\n",
            "Epoch [85/100], Step [200/610], Generator Loss: 8.7134, Discriminator Loss: 0.0071\n",
            "Epoch [85/100], Step [300/610], Generator Loss: 13.7184, Discriminator Loss: 0.0142\n",
            "Epoch [85/100], Step [400/610], Generator Loss: 8.8144, Discriminator Loss: 0.0021\n",
            "Epoch [85/100], Step [500/610], Generator Loss: 8.9098, Discriminator Loss: 0.0012\n",
            "Epoch [85/100], Step [600/610], Generator Loss: 14.4368, Discriminator Loss: 0.0783\n"
          ]
        },
        {
          "name": "stderr",
          "output_type": "stream",
          "text": [
            "\r 85%|████████▌ | 85/100 [1:02:20<10:56, 43.79s/it]"
          ]
        },
        {
          "name": "stdout",
          "output_type": "stream",
          "text": [
            "Epoch [86/100], Step [100/610], Generator Loss: 10.3917, Discriminator Loss: 0.0073\n",
            "Epoch [86/100], Step [200/610], Generator Loss: 10.6509, Discriminator Loss: 0.0171\n",
            "Epoch [86/100], Step [300/610], Generator Loss: 8.6227, Discriminator Loss: 0.0091\n",
            "Epoch [86/100], Step [400/610], Generator Loss: 11.2983, Discriminator Loss: 0.0267\n",
            "Epoch [86/100], Step [500/610], Generator Loss: 7.8997, Discriminator Loss: 0.0110\n",
            "Epoch [86/100], Step [600/610], Generator Loss: 10.4759, Discriminator Loss: 0.0039\n"
          ]
        },
        {
          "name": "stderr",
          "output_type": "stream",
          "text": [
            "\r 86%|████████▌ | 86/100 [1:03:03<10:11, 43.66s/it]"
          ]
        },
        {
          "name": "stdout",
          "output_type": "stream",
          "text": [
            "Epoch [87/100], Step [100/610], Generator Loss: 14.8212, Discriminator Loss: 0.0204\n",
            "Epoch [87/100], Step [200/610], Generator Loss: 13.3477, Discriminator Loss: 0.0416\n",
            "Epoch [87/100], Step [300/610], Generator Loss: 8.6223, Discriminator Loss: 0.0029\n",
            "Epoch [87/100], Step [400/610], Generator Loss: 11.5684, Discriminator Loss: 0.0012\n",
            "Epoch [87/100], Step [500/610], Generator Loss: 11.1071, Discriminator Loss: 0.0022\n",
            "Epoch [87/100], Step [600/610], Generator Loss: 16.1428, Discriminator Loss: 0.2213\n"
          ]
        },
        {
          "name": "stderr",
          "output_type": "stream",
          "text": [
            "\r 87%|████████▋ | 87/100 [1:03:48<09:32, 44.05s/it]"
          ]
        },
        {
          "name": "stdout",
          "output_type": "stream",
          "text": [
            "Epoch [88/100], Step [100/610], Generator Loss: 9.0848, Discriminator Loss: 0.0128\n",
            "Epoch [88/100], Step [200/610], Generator Loss: 15.3860, Discriminator Loss: 0.0003\n",
            "Epoch [88/100], Step [300/610], Generator Loss: 16.1950, Discriminator Loss: 0.1066\n",
            "Epoch [88/100], Step [400/610], Generator Loss: 13.8885, Discriminator Loss: 0.0180\n",
            "Epoch [88/100], Step [500/610], Generator Loss: 8.0150, Discriminator Loss: 0.0030\n",
            "Epoch [88/100], Step [600/610], Generator Loss: 11.7559, Discriminator Loss: 0.0033\n"
          ]
        },
        {
          "name": "stderr",
          "output_type": "stream",
          "text": [
            "\r 88%|████████▊ | 88/100 [1:04:32<08:48, 44.05s/it]"
          ]
        },
        {
          "name": "stdout",
          "output_type": "stream",
          "text": [
            "Epoch [89/100], Step [100/610], Generator Loss: 15.9824, Discriminator Loss: 1.4544\n",
            "Epoch [89/100], Step [200/610], Generator Loss: 11.0943, Discriminator Loss: 0.0009\n",
            "Epoch [89/100], Step [300/610], Generator Loss: 12.9127, Discriminator Loss: 0.0074\n",
            "Epoch [89/100], Step [400/610], Generator Loss: 20.1346, Discriminator Loss: 0.0032\n",
            "Epoch [89/100], Step [500/610], Generator Loss: 12.1682, Discriminator Loss: 0.0108\n",
            "Epoch [89/100], Step [600/610], Generator Loss: 9.9090, Discriminator Loss: 0.0011\n"
          ]
        },
        {
          "name": "stderr",
          "output_type": "stream",
          "text": [
            "\r 89%|████████▉ | 89/100 [1:05:15<08:01, 43.81s/it]"
          ]
        },
        {
          "name": "stdout",
          "output_type": "stream",
          "text": [
            "Epoch [90/100], Step [100/610], Generator Loss: 17.0241, Discriminator Loss: 0.0186\n",
            "Epoch [90/100], Step [200/610], Generator Loss: 18.2739, Discriminator Loss: 0.0317\n",
            "Epoch [90/100], Step [300/610], Generator Loss: 7.7340, Discriminator Loss: 0.0113\n",
            "Epoch [90/100], Step [400/610], Generator Loss: 9.1692, Discriminator Loss: 0.0181\n",
            "Epoch [90/100], Step [500/610], Generator Loss: 7.3615, Discriminator Loss: 0.0142\n",
            "Epoch [90/100], Step [600/610], Generator Loss: 10.1128, Discriminator Loss: 0.0056\n"
          ]
        },
        {
          "name": "stderr",
          "output_type": "stream",
          "text": [
            "\r 90%|█████████ | 90/100 [1:05:58<07:16, 43.64s/it]"
          ]
        },
        {
          "name": "stdout",
          "output_type": "stream",
          "text": [
            "Epoch [91/100], Step [100/610], Generator Loss: 7.1266, Discriminator Loss: 0.0144\n",
            "Epoch [91/100], Step [200/610], Generator Loss: 14.7030, Discriminator Loss: 0.0007\n",
            "Epoch [91/100], Step [300/610], Generator Loss: 13.5991, Discriminator Loss: 0.0034\n",
            "Epoch [91/100], Step [400/610], Generator Loss: 6.5011, Discriminator Loss: 0.0329\n",
            "Epoch [91/100], Step [500/610], Generator Loss: 13.2219, Discriminator Loss: 0.0030\n",
            "Epoch [91/100], Step [600/610], Generator Loss: 13.2753, Discriminator Loss: 0.0112\n"
          ]
        },
        {
          "name": "stderr",
          "output_type": "stream",
          "text": [
            "\r 91%|█████████ | 91/100 [1:06:43<06:35, 43.90s/it]"
          ]
        },
        {
          "name": "stdout",
          "output_type": "stream",
          "text": [
            "Epoch [92/100], Step [100/610], Generator Loss: 17.2967, Discriminator Loss: 0.0009\n",
            "Epoch [92/100], Step [200/610], Generator Loss: 8.9404, Discriminator Loss: 0.0087\n",
            "Epoch [92/100], Step [300/610], Generator Loss: 8.5122, Discriminator Loss: 0.0166\n",
            "Epoch [92/100], Step [400/610], Generator Loss: 8.1455, Discriminator Loss: 0.0478\n",
            "Epoch [92/100], Step [500/610], Generator Loss: 6.6170, Discriminator Loss: 0.0181\n",
            "Epoch [92/100], Step [600/610], Generator Loss: 12.3602, Discriminator Loss: 0.0155\n"
          ]
        },
        {
          "name": "stderr",
          "output_type": "stream",
          "text": [
            "\r 92%|█████████▏| 92/100 [1:07:27<05:51, 43.98s/it]"
          ]
        },
        {
          "name": "stdout",
          "output_type": "stream",
          "text": [
            "Epoch [93/100], Step [100/610], Generator Loss: 18.4677, Discriminator Loss: 0.0192\n",
            "Epoch [93/100], Step [200/610], Generator Loss: 12.2078, Discriminator Loss: 0.0009\n",
            "Epoch [93/100], Step [300/610], Generator Loss: 9.6691, Discriminator Loss: 0.0215\n",
            "Epoch [93/100], Step [400/610], Generator Loss: 8.2059, Discriminator Loss: 0.0065\n",
            "Epoch [93/100], Step [500/610], Generator Loss: 13.7662, Discriminator Loss: 0.0162\n",
            "Epoch [93/100], Step [600/610], Generator Loss: 10.2213, Discriminator Loss: 0.0036\n"
          ]
        },
        {
          "name": "stderr",
          "output_type": "stream",
          "text": [
            "\r 93%|█████████▎| 93/100 [1:08:11<05:07, 43.94s/it]"
          ]
        },
        {
          "name": "stdout",
          "output_type": "stream",
          "text": [
            "Epoch [94/100], Step [100/610], Generator Loss: 13.4043, Discriminator Loss: 0.0045\n",
            "Epoch [94/100], Step [200/610], Generator Loss: 16.6852, Discriminator Loss: 0.0017\n",
            "Epoch [94/100], Step [300/610], Generator Loss: 8.8225, Discriminator Loss: 0.0166\n",
            "Epoch [94/100], Step [400/610], Generator Loss: 11.3404, Discriminator Loss: 0.0007\n",
            "Epoch [94/100], Step [500/610], Generator Loss: 13.7659, Discriminator Loss: 0.0005\n",
            "Epoch [94/100], Step [600/610], Generator Loss: 9.9912, Discriminator Loss: 0.0050\n"
          ]
        },
        {
          "name": "stderr",
          "output_type": "stream",
          "text": [
            "\r 94%|█████████▍| 94/100 [1:08:54<04:22, 43.78s/it]"
          ]
        },
        {
          "name": "stdout",
          "output_type": "stream",
          "text": [
            "Epoch [95/100], Step [100/610], Generator Loss: 11.6134, Discriminator Loss: 0.0031\n",
            "Epoch [95/100], Step [200/610], Generator Loss: 8.1027, Discriminator Loss: 0.0152\n",
            "Epoch [95/100], Step [300/610], Generator Loss: 10.1440, Discriminator Loss: 0.0020\n",
            "Epoch [95/100], Step [400/610], Generator Loss: 7.8867, Discriminator Loss: 0.0095\n",
            "Epoch [95/100], Step [500/610], Generator Loss: 7.7743, Discriminator Loss: 0.0658\n",
            "Epoch [95/100], Step [600/610], Generator Loss: 14.9602, Discriminator Loss: 0.0056\n"
          ]
        },
        {
          "name": "stderr",
          "output_type": "stream",
          "text": [
            "\r 95%|█████████▌| 95/100 [1:09:39<03:40, 44.01s/it]"
          ]
        },
        {
          "name": "stdout",
          "output_type": "stream",
          "text": [
            "Epoch [96/100], Step [100/610], Generator Loss: 9.6009, Discriminator Loss: 0.0020\n",
            "Epoch [96/100], Step [200/610], Generator Loss: 10.6065, Discriminator Loss: 0.0030\n",
            "Epoch [96/100], Step [300/610], Generator Loss: 13.7184, Discriminator Loss: 0.0479\n",
            "Epoch [96/100], Step [400/610], Generator Loss: 14.4860, Discriminator Loss: 0.0029\n",
            "Epoch [96/100], Step [500/610], Generator Loss: 12.9061, Discriminator Loss: 0.0041\n",
            "Epoch [96/100], Step [600/610], Generator Loss: 8.1356, Discriminator Loss: 0.0321\n"
          ]
        },
        {
          "name": "stderr",
          "output_type": "stream",
          "text": [
            "\r 96%|█████████▌| 96/100 [1:10:22<02:55, 43.79s/it]"
          ]
        },
        {
          "name": "stdout",
          "output_type": "stream",
          "text": [
            "Epoch [97/100], Step [100/610], Generator Loss: 14.2880, Discriminator Loss: 0.0088\n",
            "Epoch [97/100], Step [200/610], Generator Loss: 19.3401, Discriminator Loss: 0.0605\n",
            "Epoch [97/100], Step [300/610], Generator Loss: 11.3018, Discriminator Loss: 0.0188\n",
            "Epoch [97/100], Step [400/610], Generator Loss: 9.3619, Discriminator Loss: 0.0061\n",
            "Epoch [97/100], Step [500/610], Generator Loss: 8.3746, Discriminator Loss: 0.0170\n",
            "Epoch [97/100], Step [600/610], Generator Loss: 12.6747, Discriminator Loss: 0.0120\n"
          ]
        },
        {
          "name": "stderr",
          "output_type": "stream",
          "text": [
            "\r 97%|█████████▋| 97/100 [1:11:06<02:11, 43.85s/it]"
          ]
        },
        {
          "name": "stdout",
          "output_type": "stream",
          "text": [
            "Epoch [98/100], Step [100/610], Generator Loss: 12.0230, Discriminator Loss: 0.0025\n",
            "Epoch [98/100], Step [200/610], Generator Loss: 10.0495, Discriminator Loss: 0.0052\n",
            "Epoch [98/100], Step [300/610], Generator Loss: 11.7201, Discriminator Loss: 0.0205\n",
            "Epoch [98/100], Step [400/610], Generator Loss: 7.5967, Discriminator Loss: 0.4845\n",
            "Epoch [98/100], Step [500/610], Generator Loss: 10.1291, Discriminator Loss: 0.0049\n",
            "Epoch [98/100], Step [600/610], Generator Loss: 14.6719, Discriminator Loss: 0.0011\n"
          ]
        },
        {
          "name": "stderr",
          "output_type": "stream",
          "text": [
            "\r 98%|█████████▊| 98/100 [1:11:51<01:28, 44.21s/it]"
          ]
        },
        {
          "name": "stdout",
          "output_type": "stream",
          "text": [
            "Epoch [99/100], Step [100/610], Generator Loss: 8.4181, Discriminator Loss: 0.0180\n",
            "Epoch [99/100], Step [200/610], Generator Loss: 12.4216, Discriminator Loss: 0.0118\n",
            "Epoch [99/100], Step [300/610], Generator Loss: 14.5933, Discriminator Loss: 0.0660\n",
            "Epoch [99/100], Step [400/610], Generator Loss: 16.1151, Discriminator Loss: 0.0015\n",
            "Epoch [99/100], Step [500/610], Generator Loss: 7.1898, Discriminator Loss: 0.0134\n",
            "Epoch [99/100], Step [600/610], Generator Loss: 14.3667, Discriminator Loss: 0.0033\n"
          ]
        },
        {
          "name": "stderr",
          "output_type": "stream",
          "text": [
            "\r 99%|█████████▉| 99/100 [1:12:35<00:43, 43.98s/it]"
          ]
        },
        {
          "name": "stdout",
          "output_type": "stream",
          "text": [
            "Epoch [100/100], Step [100/610], Generator Loss: 10.2446, Discriminator Loss: 0.0249\n",
            "Epoch [100/100], Step [200/610], Generator Loss: 13.0029, Discriminator Loss: 0.0097\n",
            "Epoch [100/100], Step [300/610], Generator Loss: 17.5521, Discriminator Loss: 0.0109\n",
            "Epoch [100/100], Step [400/610], Generator Loss: 15.5530, Discriminator Loss: 0.1889\n",
            "Epoch [100/100], Step [500/610], Generator Loss: 11.7663, Discriminator Loss: 0.0053\n",
            "Epoch [100/100], Step [600/610], Generator Loss: 7.0304, Discriminator Loss: 0.0336\n"
          ]
        },
        {
          "name": "stderr",
          "output_type": "stream",
          "text": [
            "100%|██████████| 100/100 [1:13:18<00:00, 43.99s/it]\n"
          ]
        }
      ],
      "source": [
        "if torch.cuda.is_available():\n",
        "    print(\"GPU is available\")\n",
        "    # Print GPU device name\n",
        "    print(\"GPU device name:\", torch.cuda.get_device_name(0))  # 0 is the index of the GPU\n",
        "else:\n",
        "    print(\"GPU is not available\")\n",
        "\n",
        "d_optimizer = optim.Adam(discriminator.parameters(), lr=0.0002, betas=(0.5, 0.999))\n",
        "g_optimizer = optim.Adam(generator.parameters(), lr=0.0002, betas=(0.5, 0.999))\n",
        "criterion = nn.BCELoss()\n",
        "\n",
        "\n",
        "device = torch.device(\"cuda\" if torch.cuda.is_available() else \"cpu\")\n",
        "generator.to(device)\n",
        "discriminator.to(device)\n",
        "\n",
        "\n",
        "# Training Loop\n",
        "num_epochs = 100\n",
        "latent_size = 128\n",
        "\n",
        "for epoch in tqdm(range(num_epochs)):\n",
        "    for i, (real_images, _) in enumerate(dataloader):\n",
        "        real_images = real_images.to(device)\n",
        "        batch_size = real_images.size(0)\n",
        "\n",
        "        # Create labels for real and fake images\n",
        "        real_labels = torch.ones(batch_size, 1, device=device)\n",
        "        fake_labels = torch.zeros(batch_size, 1, device=device)\n",
        "\n",
        "        # Train the generator\n",
        "        g_optimizer.zero_grad()\n",
        "        z = torch.randn(batch_size, latent_size, 1, 1, device=device)\n",
        "        fake_images = generator(z)\n",
        "        outputs = discriminator(fake_images)\n",
        "        g_loss = criterion(outputs, real_labels)\n",
        "        g_loss.backward()\n",
        "        g_optimizer.step()\n",
        "\n",
        "        # Train the discriminator\n",
        "        d_optimizer.zero_grad()\n",
        "        real_outputs = discriminator(real_images)\n",
        "        d_real_loss = criterion(real_outputs, real_labels)\n",
        "        fake_outputs = discriminator(fake_images.detach())\n",
        "        d_fake_loss = criterion(fake_outputs, fake_labels)\n",
        "        d_loss = d_real_loss + d_fake_loss\n",
        "        d_loss.backward()\n",
        "        d_optimizer.step()\n",
        "\n",
        "        if (i + 1) % 100 == 0:\n",
        "            print(f\"Epoch [{epoch+1}/{num_epochs}], Step [{i+1}/{len(dataloader)}], \"\n",
        "                  f\"Generator Loss: {g_loss.item():.4f}, Discriminator Loss: {d_loss.item():.4f}\")\n"
      ]
    },
    {
      "cell_type": "code",
      "execution_count": null,
      "metadata": {
        "id": "JbxbPWxOPFkF"
      },
      "outputs": [],
      "source": [
        "# save model as pickle\n",
        "import pickle\n",
        "\n",
        "with open('/content/drive/MyDrive/generator_300.pkl', 'wb') as f:\n",
        "    pickle.dump(generator, f)\n",
        "\n",
        "with open('/content/drive/MyDrive/discriminator_300.pkl', 'wb') as f:\n",
        "    pickle.dump(discriminator, f)"
      ]
    },
    {
      "cell_type": "markdown",
      "metadata": {
        "id": "oYF5A5PF7geH"
      },
      "source": [
        "# Results\n",
        "---"
      ]
    },
    {
      "cell_type": "markdown",
      "metadata": {
        "id": "9gm9hBoF_46Q"
      },
      "source": [
        "## 1. Image generation from random noise"
      ]
    },
    {
      "cell_type": "code",
      "execution_count": 98,
      "metadata": {
        "id": "jioc0ixmPFkF"
      },
      "outputs": [],
      "source": [
        "# Load the generator model\n",
        "import pickle\n",
        "generator = pickle.load(open('/content/drive/MyDrive/generator_300.pkl', 'rb'))"
      ]
    },
    {
      "cell_type": "code",
      "execution_count": 99,
      "metadata": {
        "id": "GSF5zkyqPFkF"
      },
      "outputs": [],
      "source": [
        "# Generate samples for visualization\n",
        "latent_size = 128\n",
        "device = torch.device(\"cuda\" if torch.cuda.is_available() else \"cpu\")\n",
        "with torch.no_grad():\n",
        "    z = torch.randn(4, latent_size, 1, 1).to(device)\n",
        "    fake_samples = generator(z).reshape(-1, 3, 64, 64)\n",
        "    fake_samples = (fake_samples + 1) / 2  # Rescale to [0, 1] for visualization\n"
      ]
    },
    {
      "cell_type": "code",
      "execution_count": 100,
      "metadata": {
        "colab": {
          "base_uri": "https://localhost:8080/",
          "height": 186
        },
        "id": "CvaCmxo4PFkF",
        "outputId": "296143d4-9ed5-4ec3-abd2-be90a78638bd"
      },
      "outputs": [
        {
          "data": {
            "image/png": "[encoded data removed]",
            "text/plain": [
              "<Figure size 640x480 with 1 Axes>"
            ]
          },
          "metadata": {},
          "output_type": "display_data"
        }
      ],
      "source": [
        "# Visualize generated samples\n",
        "grid_img = vutils.make_grid(fake_samples.cpu(), nrow=4, padding=2, normalize=True)\n",
        "plt.imshow(grid_img.permute(1, 2, 0))\n",
        "plt.axis(\"off\")\n",
        "plt.title(f\"Generated Samples - Epoch 300\")\n",
        "plt.show()"
      ]
    },
    {
      "cell_type": "markdown",
      "metadata": {
        "id": "i-huWaSn_8tv"
      },
      "source": [
        "## 2. Image generation from pre-existing images"
      ]
    },
    {
      "cell_type": "code",
      "execution_count": 26,
      "metadata": {
        "colab": {
          "base_uri": "https://localhost:8080/"
        },
        "id": "4Nm22tlsPFkF",
        "outputId": "cdb437b1-a7f1-4cda-ccef-2ea4163fe8c4"
      },
      "outputs": [
        {
          "name": "stderr",
          "output_type": "stream",
          "text": [
            "/usr/local/lib/python3.10/dist-packages/torchvision/models/_utils.py:208: UserWarning: The parameter 'pretrained' is deprecated since 0.13 and may be removed in the future, please use 'weights' instead.\n",
            "  warnings.warn(\n",
            "/usr/local/lib/python3.10/dist-packages/torchvision/models/_utils.py:223: UserWarning: Arguments other than a weight enum or `None` for 'weights' are deprecated since 0.13 and may be removed in the future. The current behavior is equivalent to passing `weights=ResNet50_Weights.IMAGENET1K_V1`. You can also use `weights=ResNet50_Weights.DEFAULT` to get the most up-to-date weights.\n",
            "  warnings.warn(msg)\n",
            "Downloading: \"https://download.pytorch.org/models/resnet50-0676ba61.pth\" to /root/.cache/torch/hub/checkpoints/resnet50-0676ba61.pth\n",
            "100%|██████████| 97.8M/97.8M [00:00<00:00, 179MB/s]\n"
          ]
        },
        {
          "name": "stdout",
          "output_type": "stream",
          "text": [
            "torch.Size([1, 128, 1, 1])\n"
          ]
        }
      ],
      "source": [
        "# Pass real image into generator\n",
        "\n",
        "import torch\n",
        "import torchvision.transforms as transforms\n",
        "import torchvision.models as models\n",
        "from PIL import Image\n",
        "\n",
        "# Load and preprocess the image\n",
        "img_path = '/content/animeface-character-dataset/data/face_1254_484_37.png'\n",
        "img = Image.open(img_path)\n",
        "\n",
        "# Resize the image to match the expected input size of the CNN model\n",
        "resize_transform = transforms.Resize((224, 224))\n",
        "img_resized = resize_transform(img)\n",
        "\n",
        "# Convert the image to a tensor and normalize it\n",
        "to_tensor_transform = transforms.ToTensor()\n",
        "normalize_transform = transforms.Normalize(mean=[0.485, 0.456, 0.406], std=[0.229, 0.224, 0.225])\n",
        "img_tensor = normalize_transform(to_tensor_transform(img_resized)).unsqueeze(0)\n",
        "\n",
        "# Load a pre-trained ResNet model\n",
        "resnet = models.resnet50(pretrained=True)\n",
        "\n",
        "# Set the model to evaluation mode\n",
        "resnet.eval()\n",
        "\n",
        "# Extract features from the image using the ResNet model\n",
        "with torch.no_grad():\n",
        "    features = resnet(img_tensor)\n",
        "\n",
        "# Use a linear layer to reduce the number of channels to 128\n",
        "linear_layer = torch.nn.Linear(in_features=features.size(1), out_features=128)\n",
        "features_reduced = linear_layer(features.squeeze()).unsqueeze(-1).unsqueeze(-1)\n",
        "\n",
        "# Add an extra dimension at the beginning\n",
        "features_reduced = features_reduced.unsqueeze(0)\n",
        "\n",
        "# Further processing or use of the feature map\n",
        "print(features_reduced.shape)  # Output: torch.Size([1, 128, 1, 1])\n"
      ]
    },
    {
      "cell_type": "code",
      "execution_count": 28,
      "metadata": {
        "colab": {
          "base_uri": "https://localhost:8080/",
          "height": 444
        },
        "id": "yl4Z8bvhPFkF",
        "outputId": "4ff68f52-0885-4d8b-b6e5-59ff16d49f61"
      },
      "outputs": [
        {
          "data": {
            "image/png": "[encoded data removed]",
            "text/plain": [
              "<Figure size 500x500 with 1 Axes>"
            ]
          },
          "metadata": {},
          "output_type": "display_data"
        }
      ],
      "source": [
        "fake_samples = generator(features_reduced.to(device)).reshape(-1, 3, 64, 64)\n",
        "# Visualize generated samples\n",
        "grid_img = vutils.make_grid(fake_samples.cpu(), nrow=4, padding=2, normalize=True)\n",
        "plt.figure(figsize=(5, 5))\n",
        "plt.imshow(grid_img.permute(1, 2, 0))\n",
        "plt.axis(\"off\")\n",
        "plt.title(f\"Generated Samples - Epoch 300\")\n",
        "plt.show()"
      ]
    },
    {
      "cell_type": "code",
      "execution_count": 29,
      "metadata": {
        "colab": {
          "base_uri": "https://localhost:8080/",
          "height": 173
        },
        "id": "YY8aHFtCPFkF",
        "outputId": "c672e729-8a86-4a8c-86f5-d31905868427"
      },
      "outputs": [
        {
          "data": {
            "image/png": "[encoded data removed]",
            "text/plain": [
              "<PIL.PngImagePlugin.PngImageFile image mode=RGB size=160x156>"
            ]
          },
          "execution_count": 29,
          "metadata": {},
          "output_type": "execute_result"
        }
      ],
      "source": [
        "img"
      ]
    },
    {
      "cell_type": "markdown",
      "metadata": {
        "id": "WtT7RCApAd5G"
      },
      "source": [
        "# Experimentation and Evaluation Results\n",
        "---"
      ]
    },
    {
      "cell_type": "code",
      "execution_count": 101,
      "metadata": {
        "colab": {
          "base_uri": "https://localhost:8080/"
        },
        "id": "BC2vRU93Gc2n",
        "outputId": "e846aecc-8879-4fbe-9cb9-d15e394491bd"
      },
      "outputs": [
        {
          "data": {
            "text/plain": [
              "(torch.Size([3, 64, 64]), torch.Size([3, 64, 64]))"
            ]
          },
          "execution_count": 101,
          "metadata": {},
          "output_type": "execute_result"
        }
      ],
      "source": [
        "img_path = '/content/animeface-character-dataset/data/face_1254_484_37.png'\n",
        "img = Image.open(img_path)\n",
        "\n",
        "resize_transform = transforms.Resize((64, 64))\n",
        "transform = transforms.ToTensor()\n",
        "image_tensor = transform(img)\n",
        "img_resized = resize_transform(image_tensor)\n",
        "\n",
        "real_image = img_resized\n",
        "\n",
        "fake_image = fake_samples[0]\n",
        "real_image.shape, fake_image.shape\n"
      ]
    },
    {
      "cell_type": "code",
      "execution_count": 102,
      "metadata": {
        "colab": {
          "base_uri": "https://localhost:8080/"
        },
        "id": "LkX5Bpr7A-5o",
        "outputId": "8808e156-b1c0-4de6-d1bc-042630c5a903"
      },
      "outputs": [
        {
          "name": "stdout",
          "output_type": "stream",
          "text": [
            "Mean Squared Error: 0.1329497992992401\n"
          ]
        }
      ],
      "source": [
        "def calculate_mse(image1, image2):\n",
        "    squared_diff = (image1 - image2)**2\n",
        "    mse = torch.mean(squared_diff)\n",
        "\n",
        "    return mse\n",
        "\n",
        "mse_value = calculate_mse(real_image, fake_image.cpu())\n",
        "print(\"Mean Squared Error:\", mse_value.item())"
      ]
    },
    {
      "cell_type": "markdown",
      "metadata": {
        "id": "EK0OamRAIGEF"
      },
      "source": [
        "## Experiment results\n",
        "\n",
        "As we can see from the results below, the model is able to generate images that are very similar to the original images. The model was trained for 300 epochs and the MSE loss was calculated for each epoch. The model was able to achieve a loss of 0.1329 after 300 epochs. There is also a pattern that can be observed from the results below. As the number of epochs increases, the MSE loss decreases. This indicates that the model is learning and improving over time. The quality of the generated images also improves as the number of epochs increases.\n",
        "\n",
        "| Model | MSE |\n",
        "|-----------------|-----------------|\n",
        "| Generator - 50 Epochs | 0.1422|\n",
        "| Generator - 100 Epochs | 0.1419 |\n",
        "| Generator - 200 Epochs | 0.1401 |\n",
        "| Generator - 300 Epochs | 0.1329 |\n"
      ]
    }
  ],
  "metadata": {
    "accelerator": "GPU",
    "colab": {
      "gpuType": "T4",
      "provenance": []
    },
    "kernelspec": {
      "display_name": "Python 3",
      "name": "python3"
    },
    "language_info": {
      "codemirror_mode": {
        "name": "ipython",
        "version": 3
      },
      "file_extension": ".py",
      "mimetype": "text/x-python",
      "name": "python",
      "nbconvert_exporter": "python",
      "pygments_lexer": "ipython3",
      "version": "3.11.6"
    }
  },
  "nbformat": 4,
  "nbformat_minor": 0
}
